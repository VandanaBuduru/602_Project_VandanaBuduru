{
 "cells": [
  {
   "cell_type": "markdown",
   "metadata": {},
   "source": [
    "# Assignment Week 2 \n",
    "Answer each question completely. Include your code and summarize what you see in a brief narrative.\n",
    "\n",
    "### Charting:\n",
    "Remember to make your charts as self-sufficient as possible (i.e., labels, titles, lack of clutter)  "
   ]
  },
  {
   "cell_type": "code",
   "execution_count": 1,
   "metadata": {},
   "outputs": [
    {
     "name": "stdout",
     "output_type": "stream",
     "text": [
      "<class 'pandas.core.frame.DataFrame'>\n",
      "RangeIndex: 15000 entries, 0 to 14999\n",
      "Data columns (total 13 columns):\n",
      " #   Column        Non-Null Count  Dtype  \n",
      "---  ------        --------------  -----  \n",
      " 0   year          15000 non-null  int64  \n",
      " 1   make          14724 non-null  object \n",
      " 2   model         14721 non-null  object \n",
      " 3   trim          14713 non-null  object \n",
      " 4   body          14657 non-null  object \n",
      " 5   transmission  13251 non-null  object \n",
      " 6   state         15000 non-null  object \n",
      " 7   condition     14668 non-null  object \n",
      " 8   odometer      14995 non-null  float64\n",
      " 9   color         14974 non-null  object \n",
      " 10  interior      14974 non-null  object \n",
      " 11  mmr           15000 non-null  object \n",
      " 12  sellingprice  15000 non-null  int64  \n",
      "dtypes: float64(1), int64(2), object(10)\n",
      "memory usage: 1.5+ MB\n"
     ]
    }
   ],
   "source": [
    "import pandas as pd\n",
    "import numpy as np\n",
    "import matplotlib.pyplot as plt\n",
    "%matplotlib inline\n",
    "\n",
    "df = pd.read_csv('car-data.csv', low_memory=False)\n",
    "\n",
    "df.info()"
   ]
  },
  {
   "cell_type": "code",
   "execution_count": 2,
   "metadata": {},
   "outputs": [
    {
     "data": {
      "text/html": [
       "<div>\n",
       "<style scoped>\n",
       "    .dataframe tbody tr th:only-of-type {\n",
       "        vertical-align: middle;\n",
       "    }\n",
       "\n",
       "    .dataframe tbody tr th {\n",
       "        vertical-align: top;\n",
       "    }\n",
       "\n",
       "    .dataframe thead th {\n",
       "        text-align: right;\n",
       "    }\n",
       "</style>\n",
       "<table border=\"1\" class=\"dataframe\">\n",
       "  <thead>\n",
       "    <tr style=\"text-align: right;\">\n",
       "      <th></th>\n",
       "      <th>year</th>\n",
       "      <th>make</th>\n",
       "      <th>model</th>\n",
       "      <th>trim</th>\n",
       "      <th>body</th>\n",
       "      <th>transmission</th>\n",
       "      <th>state</th>\n",
       "      <th>condition</th>\n",
       "      <th>odometer</th>\n",
       "      <th>color</th>\n",
       "      <th>interior</th>\n",
       "      <th>mmr</th>\n",
       "      <th>sellingprice</th>\n",
       "    </tr>\n",
       "  </thead>\n",
       "  <tbody>\n",
       "    <tr>\n",
       "      <th>0</th>\n",
       "      <td>2014</td>\n",
       "      <td>Nissan</td>\n",
       "      <td>Versa</td>\n",
       "      <td>1.6 SV</td>\n",
       "      <td>Sedan</td>\n",
       "      <td>automatic</td>\n",
       "      <td>ca</td>\n",
       "      <td>4.8</td>\n",
       "      <td>80.0</td>\n",
       "      <td>—</td>\n",
       "      <td>black</td>\n",
       "      <td>9975</td>\n",
       "      <td>11250</td>\n",
       "    </tr>\n",
       "    <tr>\n",
       "      <th>1</th>\n",
       "      <td>2008</td>\n",
       "      <td>BMW</td>\n",
       "      <td>5 Series</td>\n",
       "      <td>550i</td>\n",
       "      <td>Sedan</td>\n",
       "      <td>automatic</td>\n",
       "      <td>az</td>\n",
       "      <td>3.7</td>\n",
       "      <td>99529.0</td>\n",
       "      <td>silver</td>\n",
       "      <td>black</td>\n",
       "      <td>13550</td>\n",
       "      <td>13600</td>\n",
       "    </tr>\n",
       "    <tr>\n",
       "      <th>2</th>\n",
       "      <td>2013</td>\n",
       "      <td>Toyota</td>\n",
       "      <td>Corolla</td>\n",
       "      <td>S Special Edition</td>\n",
       "      <td>Sedan</td>\n",
       "      <td>automatic</td>\n",
       "      <td>ca</td>\n",
       "      <td>3.5</td>\n",
       "      <td>19377.0</td>\n",
       "      <td>gray</td>\n",
       "      <td>gray</td>\n",
       "      <td>11850</td>\n",
       "      <td>12400</td>\n",
       "    </tr>\n",
       "    <tr>\n",
       "      <th>3</th>\n",
       "      <td>2012</td>\n",
       "      <td>Mercedes-Benz</td>\n",
       "      <td>C-Class</td>\n",
       "      <td>C250 Sport</td>\n",
       "      <td>sedan</td>\n",
       "      <td>automatic</td>\n",
       "      <td>nv</td>\n",
       "      <td>3.6</td>\n",
       "      <td>41143.0</td>\n",
       "      <td>—</td>\n",
       "      <td>black</td>\n",
       "      <td>18600</td>\n",
       "      <td>18000</td>\n",
       "    </tr>\n",
       "    <tr>\n",
       "      <th>4</th>\n",
       "      <td>2012</td>\n",
       "      <td>Infiniti</td>\n",
       "      <td>G Sedan</td>\n",
       "      <td>G37 Journey</td>\n",
       "      <td>G Sedan</td>\n",
       "      <td>automatic</td>\n",
       "      <td>ca</td>\n",
       "      <td>3.9</td>\n",
       "      <td>29560.0</td>\n",
       "      <td>gray</td>\n",
       "      <td>black</td>\n",
       "      <td>21000</td>\n",
       "      <td>21000</td>\n",
       "    </tr>\n",
       "  </tbody>\n",
       "</table>\n",
       "</div>"
      ],
      "text/plain": [
       "   year           make     model               trim     body transmission  \\\n",
       "0  2014         Nissan     Versa             1.6 SV    Sedan    automatic   \n",
       "1  2008            BMW  5 Series               550i    Sedan    automatic   \n",
       "2  2013         Toyota   Corolla  S Special Edition    Sedan    automatic   \n",
       "3  2012  Mercedes-Benz   C-Class         C250 Sport    sedan    automatic   \n",
       "4  2012       Infiniti   G Sedan        G37 Journey  G Sedan    automatic   \n",
       "\n",
       "  state condition  odometer   color interior    mmr  sellingprice  \n",
       "0    ca       4.8      80.0       —    black   9975         11250  \n",
       "1    az       3.7   99529.0  silver    black  13550         13600  \n",
       "2    ca       3.5   19377.0    gray     gray  11850         12400  \n",
       "3    nv       3.6   41143.0       —    black  18600         18000  \n",
       "4    ca       3.9   29560.0    gray    black  21000         21000  "
      ]
     },
     "execution_count": 2,
     "metadata": {},
     "output_type": "execute_result"
    }
   ],
   "source": [
    "df.head()"
   ]
  },
  {
   "cell_type": "markdown",
   "metadata": {},
   "source": [
    "# Data Description:\n",
    "- year: year the car was built (e.g., the model year)  \n",
    "- make: the manufacturer. \n",
    "- model: specific model of the car  \n",
    "- trim: subtype of the car model. \n",
    "- body: body style of the car. \n",
    "- transmission: type of transmission  \n",
    "- state: state car is registered. \n",
    "- condition: numerical rating of the condition, higher is better.  \n",
    "- odometer: number of miles the car has been driven.   \n",
    "- color: color of the car.  \n",
    "- interior: type of interior (e.g., seats). \n",
    "- mmr: estimated wholesale price of the car if auctioned.  \n",
    "- sellingprice: actual sales price of the car."
   ]
  },
  {
   "cell_type": "markdown",
   "metadata": {},
   "source": [
    "# Question 1. Determine the number of missing values in each column."
   ]
  },
  {
   "cell_type": "code",
   "execution_count": 3,
   "metadata": {},
   "outputs": [
    {
     "data": {
      "text/plain": [
       "year               0\n",
       "make             276\n",
       "model            279\n",
       "trim             287\n",
       "body             343\n",
       "transmission    1749\n",
       "state              0\n",
       "condition        332\n",
       "odometer           5\n",
       "color             26\n",
       "interior          26\n",
       "mmr                0\n",
       "sellingprice       0\n",
       "dtype: int64"
      ]
     },
     "execution_count": 3,
     "metadata": {},
     "output_type": "execute_result"
    }
   ],
   "source": [
    "# code\n",
    "#Missing values and Count in each column\n",
    "df.isna().sum()"
   ]
  },
  {
   "cell_type": "markdown",
   "metadata": {},
   "source": [
    "Inference : Number of Missing Values are in Each Column are as \n",
    "Year column have 0 and make column have 276 like ..\n"
   ]
  },
  {
   "cell_type": "markdown",
   "metadata": {},
   "source": [
    "# Question 2. Check the data types.\n",
    "- Which columns are coded to the incorrect type? If any, correct them."
   ]
  },
  {
   "cell_type": "code",
   "execution_count": 4,
   "metadata": {},
   "outputs": [
    {
     "name": "stdout",
     "output_type": "stream",
     "text": [
      "year              int64\n",
      "make             object\n",
      "model            object\n",
      "trim             object\n",
      "body             object\n",
      "transmission     object\n",
      "state            object\n",
      "condition        object\n",
      "odometer        float64\n",
      "color            object\n",
      "interior         object\n",
      "mmr              object\n",
      "sellingprice      int64\n",
      "dtype: object\n"
     ]
    }
   ],
   "source": [
    "# code\n",
    "print(df.dtypes)"
   ]
  },
  {
   "cell_type": "code",
   "execution_count": 5,
   "metadata": {},
   "outputs": [
    {
     "name": "stdout",
     "output_type": "stream",
     "text": [
      "{'1.6', '4', '2.1', '4.3', '1.8', '4.6', '4.4', '1.1', '1', '4.5', '4.7', '3.5', '1.3', '1.5', '2.4', '2.7', '4.2', '3.6', '2', '3', '2.3', '1.4', '1.2', 'ms', '1.9', '2.8', '2.9', '2.2', '4.8', '3.8', '3.3', '3.9', '3.7', '3.4', '4.9', '3.1', '4.1', '2.6', '5', '2.5', '1.7', '3.2'}\n"
     ]
    }
   ],
   "source": [
    "print(set(df['condition'].dropna()))"
   ]
  },
  {
   "cell_type": "code",
   "execution_count": 6,
   "metadata": {},
   "outputs": [],
   "source": [
    "df.drop(df.loc[df['condition']=='ms'].index,inplace=True)"
   ]
  },
  {
   "cell_type": "code",
   "execution_count": 7,
   "metadata": {},
   "outputs": [],
   "source": [
    "df[[\"odometer\"]] = df[[\"odometer\"]].astype(\"double\")\n",
    "\n",
    "df[[\"condition\"]] = df[[\"condition\"]].astype(\"float\")\n",
    "df[[\"mmr\"]] = df[[\"mmr\"]].astype(\"int\")"
   ]
  },
  {
   "cell_type": "code",
   "execution_count": 8,
   "metadata": {},
   "outputs": [
    {
     "name": "stdout",
     "output_type": "stream",
     "text": [
      "year              int64\n",
      "make             object\n",
      "model            object\n",
      "trim             object\n",
      "body             object\n",
      "transmission     object\n",
      "state            object\n",
      "condition       float64\n",
      "odometer        float64\n",
      "color            object\n",
      "interior         object\n",
      "mmr               int32\n",
      "sellingprice      int64\n",
      "dtype: object\n"
     ]
    }
   ],
   "source": [
    "print(df.dtypes)"
   ]
  },
  {
   "cell_type": "markdown",
   "metadata": {},
   "source": [
    "Inference : Inorrect data types are condition , odometer, mmr and  are modified into correct data types"
   ]
  },
  {
   "cell_type": "markdown",
   "metadata": {},
   "source": [
    "# Question 3. Analyze the `make` column.\n",
    "- Comment on what you observe.  \n",
    "- Clean the column to reduce the number of unique values to as few as reasonably possible (no hard coding). \n",
    "\n",
    "Hint: What do you notice if you run this:\n",
    "```python\n",
    "makes = df.make.unique().tolist()\n",
    "makes = [str(x).lower() for x in makes]\n",
    "sorted(makes)\n",
    "```"
   ]
  },
  {
   "cell_type": "code",
   "execution_count": 9,
   "metadata": {},
   "outputs": [
    {
     "data": {
      "text/plain": [
       "['acura',\n",
       " 'acura',\n",
       " 'aston martin',\n",
       " 'audi',\n",
       " 'bentley',\n",
       " 'bmw',\n",
       " 'bmw',\n",
       " 'buick',\n",
       " 'buick',\n",
       " 'cadillac',\n",
       " 'cadillac',\n",
       " 'chev truck',\n",
       " 'chevrolet',\n",
       " 'chevrolet',\n",
       " 'chrysler',\n",
       " 'chrysler',\n",
       " 'dodge',\n",
       " 'dodge',\n",
       " 'fiat',\n",
       " 'fisker',\n",
       " 'ford',\n",
       " 'ford',\n",
       " 'gmc',\n",
       " 'gmc truck',\n",
       " 'honda',\n",
       " 'honda',\n",
       " 'hummer',\n",
       " 'hyundai',\n",
       " 'infiniti',\n",
       " 'isuzu',\n",
       " 'jaguar',\n",
       " 'jeep',\n",
       " 'jeep',\n",
       " 'kia',\n",
       " 'land rover',\n",
       " 'land rover',\n",
       " 'landrover',\n",
       " 'lexus',\n",
       " 'lexus',\n",
       " 'lincoln',\n",
       " 'maserati',\n",
       " 'mazda',\n",
       " 'mazda',\n",
       " 'mercedes',\n",
       " 'mercedes-benz',\n",
       " 'mercury',\n",
       " 'mini',\n",
       " 'mitsubishi',\n",
       " 'mitsubishi',\n",
       " 'nan',\n",
       " 'nissan',\n",
       " 'nissan',\n",
       " 'oldsmobile',\n",
       " 'pontiac',\n",
       " 'pontiac',\n",
       " 'porsche',\n",
       " 'ram',\n",
       " 'saab',\n",
       " 'saturn',\n",
       " 'scion',\n",
       " 'smart',\n",
       " 'subaru',\n",
       " 'subaru',\n",
       " 'suzuki',\n",
       " 'toyota',\n",
       " 'volkswagen',\n",
       " 'volvo']"
      ]
     },
     "execution_count": 9,
     "metadata": {},
     "output_type": "execute_result"
    }
   ],
   "source": [
    "makes = df.make.unique().tolist()\n",
    "makes = [str(x).lower() for x in makes]\n",
    "sorted(makes)"
   ]
  },
  {
   "cell_type": "raw",
   "metadata": {},
   "source": [
    "Comment on what you observe.\n",
    "Make Field have Duplicate Values  for example 'acura' repeated twice "
   ]
  },
  {
   "cell_type": "code",
   "execution_count": 10,
   "metadata": {},
   "outputs": [
    {
     "name": "stdout",
     "output_type": "stream",
     "text": [
      "Total Makes Count with Include Duplicate Values: 67\n",
      "Total Makes Values: ['acura', 'acura', 'aston martin', 'audi', 'bentley', 'bmw', 'bmw', 'buick', 'buick', 'cadillac', 'cadillac', 'chev truck', 'chevrolet', 'chevrolet', 'chrysler', 'chrysler', 'dodge', 'dodge', 'fiat', 'fisker', 'ford', 'ford', 'gmc', 'gmc truck', 'honda', 'honda', 'hummer', 'hyundai', 'infiniti', 'isuzu', 'jaguar', 'jeep', 'jeep', 'kia', 'land rover', 'land rover', 'landrover', 'lexus', 'lexus', 'lincoln', 'maserati', 'mazda', 'mazda', 'mercedes', 'mercedes-benz', 'mercury', 'mini', 'mitsubishi', 'mitsubishi', 'nan', 'nissan', 'nissan', 'oldsmobile', 'pontiac', 'pontiac', 'porsche', 'ram', 'saab', 'saturn', 'scion', 'smart', 'subaru', 'subaru', 'suzuki', 'toyota', 'volkswagen', 'volvo']\n"
     ]
    }
   ],
   "source": [
    "# code\n",
    "\n",
    "makes = df.make.unique().tolist()\n",
    "makes = [str(x).lower() for x in makes]\n",
    "\n",
    "\n",
    "print( \"Total Makes Count with Include Duplicate Values:\", len(sorted(makes)) )\n",
    "\n",
    "print( \"Total Makes Values:\" ,sorted(makes) )"
   ]
  },
  {
   "cell_type": "raw",
   "metadata": {},
   "source": [
    "Clean the column to reduce the number of unique values to as few as reasonably possible (no hard coding)\n",
    "Use Set() for Remove Duplicates (no hard Coding Included)"
   ]
  },
  {
   "cell_type": "code",
   "execution_count": 11,
   "metadata": {},
   "outputs": [
    {
     "name": "stdout",
     "output_type": "stream",
     "text": [
      "Total Count with Include Duplicate Values: 50\n",
      "Total Make Values: {'lincoln', 'jeep', 'bentley', 'mercedes-benz', 'toyota', 'ford', 'oldsmobile', 'nan', 'lexus', 'nissan', 'mazda', 'hummer', 'pontiac', 'subaru', 'honda', 'mini', 'ram', 'porsche', 'mercedes', 'volkswagen', 'mitsubishi', 'aston martin', 'fiat', 'volvo', 'hyundai', 'gmc', 'bmw', 'dodge', 'fisker', 'chrysler', 'suzuki', 'smart', 'jaguar', 'isuzu', 'kia', 'landrover', 'saturn', 'gmc truck', 'chev truck', 'mercury', 'cadillac', 'land rover', 'scion', 'maserati', 'acura', 'audi', 'chevrolet', 'buick', 'infiniti', 'saab'}\n"
     ]
    }
   ],
   "source": [
    "#Clean the column to reduce the number of unique values to as few as reasonably possible (no hard coding).\n",
    "makes = df.make.unique().tolist()\n",
    "makes = [str(x).lower() for x in makes]\n",
    "\n",
    "#Comment on what you observe.\n",
    "# Make Field have Duplicate Values  for example 'acura' repeated twice \n",
    "print( \"Total Count with Include Duplicate Values:\", len(set(sorted(makes))) )\n",
    "\n",
    "print( \"Total Make Values:\" ,set(sorted(makes)) )"
   ]
  },
  {
   "cell_type": "code",
   "execution_count": 12,
   "metadata": {},
   "outputs": [
    {
     "name": "stdout",
     "output_type": "stream",
     "text": [
      "Duplicate Values Count: 17\n"
     ]
    }
   ],
   "source": [
    "print(\"Duplicate Values Count:\", len(sorted(makes))-len(set(sorted(makes))))"
   ]
  },
  {
   "cell_type": "markdown",
   "metadata": {},
   "source": [
    "Inference : Make Field have Duplicate values, 17 Duplicate recoreds identified and Removed "
   ]
  },
  {
   "cell_type": "markdown",
   "metadata": {},
   "source": [
    "# Question 4. Analyze the relationship between the wholeprice `mmr` and the `salesprice`.\n",
    "- What is the overall correlation?  \n",
    "- What happens to the correlation as you increase the maximum selling price window (e.g., 0-10000, 0-20000,...)?\n",
    "- Create a scatter plot with the relationship.  \n",
    "- Create a graph that shows how the correlation changes."
   ]
  },
  {
   "cell_type": "code",
   "execution_count": 13,
   "metadata": {},
   "outputs": [
    {
     "name": "stdout",
     "output_type": "stream",
     "text": [
      "Pearsons Correlation: 0.985\n"
     ]
    }
   ],
   "source": [
    "# What is the overall correlation? Between mmr and Salesprice \n",
    "from scipy.stats import pearsonr\n",
    "corr , _ = pearsonr(df['mmr'], df['sellingprice'])\n",
    "print('Pearsons Correlation: %.3f' %corr)\n",
    "\n",
    "#df.corr()\n"
   ]
  },
  {
   "cell_type": "markdown",
   "metadata": {},
   "source": [
    "Why Pearson :\n",
    "Statically significient linear relationship exits between two contineous variables. The Stength of a linear relationship"
   ]
  },
  {
   "cell_type": "markdown",
   "metadata": {},
   "source": [
    "What is the overall correlation? Between mmr and Salesprice \n",
    "Correlation Value between -1 to 1 , based on Pearson Correlation it's Overall High level Correlation (Positive Correlation)"
   ]
  },
  {
   "cell_type": "code",
   "execution_count": 14,
   "metadata": {},
   "outputs": [
    {
     "data": {
      "text/plain": [
       "100"
      ]
     },
     "execution_count": 14,
     "metadata": {},
     "output_type": "execute_result"
    }
   ],
   "source": [
    "df.sellingprice.min()"
   ]
  },
  {
   "cell_type": "code",
   "execution_count": 15,
   "metadata": {},
   "outputs": [
    {
     "data": {
      "text/plain": [
       "160000"
      ]
     },
     "execution_count": 15,
     "metadata": {},
     "output_type": "execute_result"
    }
   ],
   "source": [
    "df.sellingprice.max()"
   ]
  },
  {
   "cell_type": "code",
   "execution_count": 16,
   "metadata": {},
   "outputs": [],
   "source": [
    "df_0_10000= df.loc[(df.sellingprice <=10000)]\n",
    "df_0_20000= df.loc[(df.sellingprice <=20000)]\n",
    "df_0_30000= df.loc[(df.sellingprice <=30000)]\n",
    "df_0_40000= df.loc[(df.sellingprice <=40000)]"
   ]
  },
  {
   "cell_type": "code",
   "execution_count": 17,
   "metadata": {},
   "outputs": [
    {
     "data": {
      "text/plain": [
       "Text(0, 0.5, 'Sellingprice')"
      ]
     },
     "execution_count": 17,
     "metadata": {},
     "output_type": "execute_result"
    },
    {
     "data": {
      "image/png": "[encoded data removed]",
      "text/plain": [
       "<Figure size 720x432 with 1 Axes>"
      ]
     },
     "metadata": {
      "needs_background": "light"
     },
     "output_type": "display_data"
    }
   ],
   "source": [
    "# What happens to the correlation as you increase the maximum selling price window (e.g., 0-10000, 0-20000,...)?\n",
    "plt.figure (figsize= (10,6)) \n",
    "plt.scatter(df_0_10000['mmr'],df_0_10000['sellingprice']) \n",
    "plt.title(\"Sellingprice (0 to 10000) Vs mmr\")\n",
    "plt.xlabel(\"mmr\")\n",
    "plt.ylabel(\"Sellingprice\")\n"
   ]
  },
  {
   "cell_type": "code",
   "execution_count": 18,
   "metadata": {},
   "outputs": [
    {
     "data": {
      "image/png": "[encoded data removed]",
      "text/plain": [
       "<Figure size 720x432 with 1 Axes>"
      ]
     },
     "metadata": {
      "needs_background": "light"
     },
     "output_type": "display_data"
    }
   ],
   "source": [
    "plt.figure (figsize= (10,6)) \n",
    "plt.scatter(df_0_20000['mmr'],df_0_20000['sellingprice']) \n",
    "plt.title(\"Sellingprice (0 to 20000) Vs mmr\")\n",
    "plt.xlabel(\"mmr\")\n",
    "plt.ylabel(\"Sellingprice\")\n",
    "plt.show()"
   ]
  },
  {
   "cell_type": "markdown",
   "metadata": {},
   "source": [
    "What happens to the correlation as you increase the maximum selling price window (e.g., 0-10000, 0-20000,...)?\n",
    "\n",
    "since it's a positive Correlation : if one variable increates default another variable also increase so if selling price increase then mmr also increase "
   ]
  },
  {
   "cell_type": "code",
   "execution_count": 19,
   "metadata": {},
   "outputs": [
    {
     "data": {
      "image/png": "[encoded data removed]",
      "text/plain": [
       "<Figure size 432x288 with 1 Axes>"
      ]
     },
     "metadata": {
      "needs_background": "light"
     },
     "output_type": "display_data"
    }
   ],
   "source": [
    "## Create a scatter plot with the relationship.\n",
    "# code\n",
    "\n",
    "plt.scatter(x=\"mmr\", y=\"sellingprice\", data=df)\n",
    "plt.title(\"Sellingprice Vs mmr\")\n",
    "plt.xlabel(\"mmr\")\n",
    "plt.ylabel(\"sellingprice\")\n",
    "plt.show()"
   ]
  },
  {
   "cell_type": "code",
   "execution_count": 20,
   "metadata": {},
   "outputs": [
    {
     "name": "stdout",
     "output_type": "stream",
     "text": [
      "                   mmr  sellingprice\n",
      "mmr           1.000000      0.985068\n",
      "sellingprice  0.985068      1.000000\n"
     ]
    },
    {
     "data": {
      "image/png": "[encoded data removed]",
      "text/plain": [
       "<Figure size 432x288 with 2 Axes>"
      ]
     },
     "metadata": {
      "needs_background": "light"
     },
     "output_type": "display_data"
    }
   ],
   "source": [
    "# Create a graph that shows how the correlation changes for mmr and Sellingprice\n",
    "import seaborn as sns\n",
    "print(df[['mmr', 'sellingprice']].corr())\n",
    "sns.heatmap(df[['mmr', 'sellingprice']].corr())\n",
    "plt.show()\n"
   ]
  },
  {
   "cell_type": "code",
   "execution_count": 21,
   "metadata": {},
   "outputs": [
    {
     "name": "stdout",
     "output_type": "stream",
     "text": [
      "                  year  condition  odometer       mmr  sellingprice\n",
      "year          1.000000   0.550763 -0.776484  0.596221      0.587444\n",
      "condition     0.550763   1.000000 -0.546863  0.487519      0.540415\n",
      "odometer     -0.776484  -0.546863  1.000000 -0.593748     -0.589332\n",
      "mmr           0.596221   0.487519 -0.593748  1.000000      0.985068\n",
      "sellingprice  0.587444   0.540415 -0.589332  0.985068      1.000000\n"
     ]
    },
    {
     "data": {
      "image/png": "[encoded data removed]",
      "text/plain": [
       "<Figure size 432x288 with 2 Axes>"
      ]
     },
     "metadata": {
      "needs_background": "light"
     },
     "output_type": "display_data"
    }
   ],
   "source": [
    "# Create a graph that shows how the correlation changes among all\n",
    "import seaborn as sns\n",
    "print(df.corr())\n",
    "sns.heatmap(df.corr())\n",
    "plt.show()"
   ]
  },
  {
   "cell_type": "markdown",
   "metadata": {},
   "source": [
    "Inference: Based on Observation `mmr` and the `salesprice`having (Positive Correlation) "
   ]
  },
  {
   "cell_type": "markdown",
   "metadata": {},
   "source": [
    "# Question 5. How does the distribution of `salesprice` vary by make for cars made between 2010-2015?\n",
    "- Use the 10 most common makes (your cleaned version of this column).  \n",
    "- Create a graph that answers this question."
   ]
  },
  {
   "cell_type": "code",
   "execution_count": 22,
   "metadata": {},
   "outputs": [
    {
     "data": {
      "text/html": [
       "<div>\n",
       "<style scoped>\n",
       "    .dataframe tbody tr th:only-of-type {\n",
       "        vertical-align: middle;\n",
       "    }\n",
       "\n",
       "    .dataframe tbody tr th {\n",
       "        vertical-align: top;\n",
       "    }\n",
       "\n",
       "    .dataframe thead th {\n",
       "        text-align: right;\n",
       "    }\n",
       "</style>\n",
       "<table border=\"1\" class=\"dataframe\">\n",
       "  <thead>\n",
       "    <tr style=\"text-align: right;\">\n",
       "      <th></th>\n",
       "      <th>year</th>\n",
       "      <th>make</th>\n",
       "      <th>sellingprice</th>\n",
       "    </tr>\n",
       "  </thead>\n",
       "  <tbody>\n",
       "    <tr>\n",
       "      <th>0</th>\n",
       "      <td>2014</td>\n",
       "      <td>Nissan</td>\n",
       "      <td>11250</td>\n",
       "    </tr>\n",
       "    <tr>\n",
       "      <th>2</th>\n",
       "      <td>2013</td>\n",
       "      <td>Toyota</td>\n",
       "      <td>12400</td>\n",
       "    </tr>\n",
       "    <tr>\n",
       "      <th>3</th>\n",
       "      <td>2012</td>\n",
       "      <td>Mercedes-Benz</td>\n",
       "      <td>18000</td>\n",
       "    </tr>\n",
       "    <tr>\n",
       "      <th>4</th>\n",
       "      <td>2012</td>\n",
       "      <td>Infiniti</td>\n",
       "      <td>21000</td>\n",
       "    </tr>\n",
       "    <tr>\n",
       "      <th>7</th>\n",
       "      <td>2013</td>\n",
       "      <td>Lincoln</td>\n",
       "      <td>22200</td>\n",
       "    </tr>\n",
       "  </tbody>\n",
       "</table>\n",
       "</div>"
      ],
      "text/plain": [
       "   year           make  sellingprice\n",
       "0  2014         Nissan         11250\n",
       "2  2013         Toyota         12400\n",
       "3  2012  Mercedes-Benz         18000\n",
       "4  2012       Infiniti         21000\n",
       "7  2013        Lincoln         22200"
      ]
     },
     "execution_count": 22,
     "metadata": {},
     "output_type": "execute_result"
    }
   ],
   "source": [
    "# Select 2010 -2015 data \n",
    "df = pd.read_csv('car-data.csv', low_memory=False)\n",
    "df1 =df.loc[(df.year>=2010)&( df.year<=2015),['year','make','sellingprice']].dropna()\n",
    "df1.head() "
   ]
  },
  {
   "cell_type": "code",
   "execution_count": 23,
   "metadata": {},
   "outputs": [
    {
     "name": "stdout",
     "output_type": "stream",
     "text": [
      "{2010, 2011, 2012, 2013, 2014, 2015}\n"
     ]
    }
   ],
   "source": [
    "print(set(df1.year))"
   ]
  },
  {
   "cell_type": "code",
   "execution_count": 24,
   "metadata": {},
   "outputs": [
    {
     "name": "stdout",
     "output_type": "stream",
     "text": [
      " [('Ford', 1920), ('Nissan', 1188), ('Chevrolet', 980), ('Toyota', 736), ('Dodge', 545), ('Hyundai', 467), ('Kia', 404), ('Honda', 388), ('Infiniti', 346), ('BMW', 320)]\n",
      "['Ford', 'Nissan', 'Chevrolet', 'Toyota', 'Dodge', 'Hyundai', 'Kia', 'Honda', 'Infiniti', 'BMW']\n"
     ]
    }
   ],
   "source": [
    " # Use the 10 most common makes (your cleaned version of this column).\n",
    "from collections import Counter\n",
    "c= Counter(df1.make)\n",
    "c.most_common(10)\n",
    "print(\"\",c.most_common(10))\n",
    "\n",
    "L1= [i[0] for i in c.most_common(10)]\n",
    "print(L1)"
   ]
  },
  {
   "cell_type": "code",
   "execution_count": 25,
   "metadata": {},
   "outputs": [
    {
     "data": {
      "text/html": [
       "<div>\n",
       "<style scoped>\n",
       "    .dataframe tbody tr th:only-of-type {\n",
       "        vertical-align: middle;\n",
       "    }\n",
       "\n",
       "    .dataframe tbody tr th {\n",
       "        vertical-align: top;\n",
       "    }\n",
       "\n",
       "    .dataframe thead th {\n",
       "        text-align: right;\n",
       "    }\n",
       "</style>\n",
       "<table border=\"1\" class=\"dataframe\">\n",
       "  <thead>\n",
       "    <tr style=\"text-align: right;\">\n",
       "      <th></th>\n",
       "      <th>year</th>\n",
       "      <th>make</th>\n",
       "      <th>sellingprice</th>\n",
       "    </tr>\n",
       "  </thead>\n",
       "  <tbody>\n",
       "    <tr>\n",
       "      <th>0</th>\n",
       "      <td>2014</td>\n",
       "      <td>Nissan</td>\n",
       "      <td>11250</td>\n",
       "    </tr>\n",
       "    <tr>\n",
       "      <th>2</th>\n",
       "      <td>2013</td>\n",
       "      <td>Toyota</td>\n",
       "      <td>12400</td>\n",
       "    </tr>\n",
       "    <tr>\n",
       "      <th>4</th>\n",
       "      <td>2012</td>\n",
       "      <td>Infiniti</td>\n",
       "      <td>21000</td>\n",
       "    </tr>\n",
       "    <tr>\n",
       "      <th>14</th>\n",
       "      <td>2015</td>\n",
       "      <td>Ford</td>\n",
       "      <td>14500</td>\n",
       "    </tr>\n",
       "    <tr>\n",
       "      <th>16</th>\n",
       "      <td>2012</td>\n",
       "      <td>Infiniti</td>\n",
       "      <td>19200</td>\n",
       "    </tr>\n",
       "  </tbody>\n",
       "</table>\n",
       "</div>"
      ],
      "text/plain": [
       "    year      make  sellingprice\n",
       "0   2014    Nissan         11250\n",
       "2   2013    Toyota         12400\n",
       "4   2012  Infiniti         21000\n",
       "14  2015      Ford         14500\n",
       "16  2012  Infiniti         19200"
      ]
     },
     "execution_count": 25,
     "metadata": {},
     "output_type": "execute_result"
    }
   ],
   "source": [
    "# Selecting 10 most common makes and with selected data\n",
    "df2 =df1.loc[(df1.make.isin(L1))]\n",
    "df2.head()"
   ]
  },
  {
   "cell_type": "code",
   "execution_count": 26,
   "metadata": {},
   "outputs": [
    {
     "name": "stdout",
     "output_type": "stream",
     "text": [
      "{2010, 2011, 2012, 2013, 2014, 2015}\n",
      "{'Chevrolet', 'Ford', 'Honda', 'BMW', 'Infiniti', 'Nissan', 'Hyundai', 'Dodge', 'Toyota', 'Kia'}\n"
     ]
    }
   ],
   "source": [
    "# Year Between 2010 - 2015 and 10 Most Common Makes\n",
    "print(set(df2.year))\n",
    "print(set(df2.make))"
   ]
  },
  {
   "cell_type": "code",
   "execution_count": 27,
   "metadata": {},
   "outputs": [
    {
     "data": {
      "image/png": "[encoded data removed]",
      "text/plain": [
       "<Figure size 432x288 with 1 Axes>"
      ]
     },
     "metadata": {
      "needs_background": "light"
     },
     "output_type": "display_data"
    }
   ],
   "source": [
    "data_set= set(df2['make'])\n",
    "plt.figure()\n",
    "for make in data_set:\n",
    "    selected_data = df2.loc[df2['make']== make]\n",
    "    plt.bar(selected_data['year'],selected_data['sellingprice'],label =make)\n",
    "plt.legend(loc='right', bbox_to_anchor=(2, 1))\n",
    "plt.title(\"distribution of `salesprice` vary by make for cars made between 2010-2015\")\n",
    "plt.xlabel(\"Year\")\n",
    "plt.ylabel(\"Sellingprice\")\n",
    "plt.show()"
   ]
  },
  {
   "cell_type": "markdown",
   "metadata": {},
   "source": [
    "Inference: Based on Observation BMW Selling Price Contineously increasing  and in the year of 2014 it's maximum (160000) and next Contineous year it's decreases (108000)\n",
    "        "
   ]
  },
  {
   "cell_type": "code",
   "execution_count": null,
   "metadata": {},
   "outputs": [],
   "source": []
  }
 ],
 "metadata": {
  "kernelspec": {
   "display_name": "Python 3",
   "language": "python",
   "name": "python3"
  },
  "language_info": {
   "codemirror_mode": {
    "name": "ipython",
    "version": 3
   },
   "file_extension": ".py",
   "mimetype": "text/x-python",
   "name": "python",
   "nbconvert_exporter": "python",
   "pygments_lexer": "ipython3",
   "version": "3.8.8"
  }
 },
 "nbformat": 4,
 "nbformat_minor": 4
}
