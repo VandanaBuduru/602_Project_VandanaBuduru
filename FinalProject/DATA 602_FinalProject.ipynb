{
 "cells": [
  {
   "cell_type": "markdown",
   "metadata": {},
   "source": [
    "# Exploratory  Data Analysis & Prediction of  CIT(Crisis Intervention Team)     Certified Indicator"
   ]
  },
  {
   "cell_type": "markdown",
   "metadata": {},
   "source": [
    "**Introduction** :Open source information transferred via Seattle city makes the information created by the City of Seattle straightforwardly accessible to people in general to expand the personal satisfaction for their residents and increasing straightforwardness,responsibility and similarity\n",
    "\n",
    "**Objective** : To identify the trends and analyze the factors affecting and influencing the crisis contacts made by the Seattle Police Departmnet. This can be used in improving and handling the crisis managemnet effectivey. Here I am predicting the \"CIT certified Indicator\" based on the nature of the crisis and the factors influencing the crisis.\n",
    "\n",
    "**Data Provided by** : City of Seattle\n",
    "\n",
    "**Source Link** : http://www.seattle.gov/police\n",
    "\n",
    "**Target Feature** :CIT Certified Indicator\n",
    "\n",
    "**Rows** : 71.6k\n",
    "\n",
    "**Columns** : 25"
   ]
  },
  {
   "cell_type": "markdown",
   "metadata": {},
   "source": [
    "##### Importing necessary libraries"
   ]
  },
  {
   "cell_type": "code",
   "execution_count": 126,
   "metadata": {},
   "outputs": [],
   "source": [
    "import pandas as pd\n",
    "import numpy as np\n",
    "import matplotlib.pyplot as plt\n",
    "import seaborn as sns\n",
    "import warnings\n",
    "warnings.filterwarnings(\"ignore\")"
   ]
  },
  {
   "cell_type": "markdown",
   "metadata": {},
   "source": [
    "##### Reading the dataframe"
   ]
  },
  {
   "cell_type": "code",
   "execution_count": 128,
   "metadata": {
    "scrolled": true
   },
   "outputs": [
    {
     "data": {
      "text/html": [
       "<div>\n",
       "<style scoped>\n",
       "    .dataframe tbody tr th:only-of-type {\n",
       "        vertical-align: middle;\n",
       "    }\n",
       "\n",
       "    .dataframe tbody tr th {\n",
       "        vertical-align: top;\n",
       "    }\n",
       "\n",
       "    .dataframe thead th {\n",
       "        text-align: right;\n",
       "    }\n",
       "</style>\n",
       "<table border=\"1\" class=\"dataframe\">\n",
       "  <thead>\n",
       "    <tr style=\"text-align: right;\">\n",
       "      <th></th>\n",
       "      <th>Template ID</th>\n",
       "      <th>Reported Date</th>\n",
       "      <th>Reported Time</th>\n",
       "      <th>Occurred Date / Time</th>\n",
       "      <th>Call Type</th>\n",
       "      <th>Initial Call Type</th>\n",
       "      <th>Final Call Type</th>\n",
       "      <th>Disposition</th>\n",
       "      <th>Use of Force Indicator</th>\n",
       "      <th>Subject Veteran Indicator</th>\n",
       "      <th>...</th>\n",
       "      <th>Officer Race</th>\n",
       "      <th>Officer Year of Birth</th>\n",
       "      <th>Officer Years of Experience</th>\n",
       "      <th>CIT Certified Indicator</th>\n",
       "      <th>Officer Bureau Desc</th>\n",
       "      <th>Officer Precinct Desc</th>\n",
       "      <th>Officer Squad Desc</th>\n",
       "      <th>Precinct</th>\n",
       "      <th>Sector</th>\n",
       "      <th>Beat</th>\n",
       "    </tr>\n",
       "  </thead>\n",
       "  <tbody>\n",
       "    <tr>\n",
       "      <th>0</th>\n",
       "      <td>546319</td>\n",
       "      <td>1900-01-01T00:00:00</td>\n",
       "      <td>00:00:00</td>\n",
       "      <td>03/23/2019 02:42:33 PM</td>\n",
       "      <td>911</td>\n",
       "      <td>ASSIST OTHER AGENCY - ROUTINE SERVICE</td>\n",
       "      <td>--ASSIST OTHER AGENCY - COUNTY AGENCY</td>\n",
       "      <td>-</td>\n",
       "      <td>N</td>\n",
       "      <td>N</td>\n",
       "      <td>...</td>\n",
       "      <td>Two or More Races</td>\n",
       "      <td>1990</td>\n",
       "      <td>-1</td>\n",
       "      <td>N</td>\n",
       "      <td>NaN</td>\n",
       "      <td>NaN</td>\n",
       "      <td>NaN</td>\n",
       "      <td>North</td>\n",
       "      <td>BOY</td>\n",
       "      <td>B3</td>\n",
       "    </tr>\n",
       "    <tr>\n",
       "      <th>1</th>\n",
       "      <td>393200</td>\n",
       "      <td>1900-01-01T00:00:00</td>\n",
       "      <td>00:00:00</td>\n",
       "      <td>02/26/2018 12:29:35 AM</td>\n",
       "      <td>TELEPHONE OTHER, NOT 911</td>\n",
       "      <td>PROPERTY - DAMAGE</td>\n",
       "      <td>--DISTURBANCE - OTHER</td>\n",
       "      <td>No Action Possible / Necessary</td>\n",
       "      <td>N</td>\n",
       "      <td>N</td>\n",
       "      <td>...</td>\n",
       "      <td>White</td>\n",
       "      <td>1991</td>\n",
       "      <td>-1</td>\n",
       "      <td>N</td>\n",
       "      <td>NaN</td>\n",
       "      <td>NaN</td>\n",
       "      <td>NaN</td>\n",
       "      <td>North</td>\n",
       "      <td>UNION</td>\n",
       "      <td>U2</td>\n",
       "    </tr>\n",
       "    <tr>\n",
       "      <th>2</th>\n",
       "      <td>78352</td>\n",
       "      <td>1900-01-01T00:00:00</td>\n",
       "      <td>00:00:00</td>\n",
       "      <td>09/01/2015 03:25:09 PM</td>\n",
       "      <td>911</td>\n",
       "      <td>PERSON IN BEHAVIORAL/EMOTIONAL CRISIS</td>\n",
       "      <td>--CRISIS COMPLAINT - GENERAL</td>\n",
       "      <td>Voluntary Committal</td>\n",
       "      <td>N</td>\n",
       "      <td>N</td>\n",
       "      <td>...</td>\n",
       "      <td>White</td>\n",
       "      <td>1982</td>\n",
       "      <td>-1</td>\n",
       "      <td>N</td>\n",
       "      <td>NaN</td>\n",
       "      <td>NaN</td>\n",
       "      <td>NaN</td>\n",
       "      <td>North</td>\n",
       "      <td>UNION</td>\n",
       "      <td>U2</td>\n",
       "    </tr>\n",
       "    <tr>\n",
       "      <th>3</th>\n",
       "      <td>315652</td>\n",
       "      <td>1900-01-01T00:00:00</td>\n",
       "      <td>00:00:00</td>\n",
       "      <td>10/07/2017 01:28:33 AM</td>\n",
       "      <td>911</td>\n",
       "      <td>DISTURBANCE, MISCELLANEOUS/OTHER</td>\n",
       "      <td>--CRISIS COMPLAINT - GENERAL</td>\n",
       "      <td>No Action Possible / Necessary</td>\n",
       "      <td>N</td>\n",
       "      <td>N</td>\n",
       "      <td>...</td>\n",
       "      <td>Asian</td>\n",
       "      <td>1987</td>\n",
       "      <td>-1</td>\n",
       "      <td>N</td>\n",
       "      <td>NaN</td>\n",
       "      <td>NaN</td>\n",
       "      <td>NaN</td>\n",
       "      <td>East</td>\n",
       "      <td>CHARLIE</td>\n",
       "      <td>C2</td>\n",
       "    </tr>\n",
       "    <tr>\n",
       "      <th>4</th>\n",
       "      <td>508470</td>\n",
       "      <td>1900-01-01T00:00:00</td>\n",
       "      <td>00:00:00</td>\n",
       "      <td>12/02/2018 08:44:38 AM</td>\n",
       "      <td>911</td>\n",
       "      <td>DIST - DV - NO ASLT</td>\n",
       "      <td>--CRISIS COMPLAINT - GENERAL</td>\n",
       "      <td>Resources Declined</td>\n",
       "      <td>N</td>\n",
       "      <td>N</td>\n",
       "      <td>...</td>\n",
       "      <td>White</td>\n",
       "      <td>1986</td>\n",
       "      <td>-1</td>\n",
       "      <td>N</td>\n",
       "      <td>NaN</td>\n",
       "      <td>NaN</td>\n",
       "      <td>NaN</td>\n",
       "      <td>West</td>\n",
       "      <td>QUEEN</td>\n",
       "      <td>Q3</td>\n",
       "    </tr>\n",
       "  </tbody>\n",
       "</table>\n",
       "<p>5 rows × 25 columns</p>\n",
       "</div>"
      ],
      "text/plain": [
       "   Template ID        Reported Date Reported Time    Occurred Date / Time  \\\n",
       "0       546319  1900-01-01T00:00:00      00:00:00  03/23/2019 02:42:33 PM   \n",
       "1       393200  1900-01-01T00:00:00      00:00:00  02/26/2018 12:29:35 AM   \n",
       "2        78352  1900-01-01T00:00:00      00:00:00  09/01/2015 03:25:09 PM   \n",
       "3       315652  1900-01-01T00:00:00      00:00:00  10/07/2017 01:28:33 AM   \n",
       "4       508470  1900-01-01T00:00:00      00:00:00  12/02/2018 08:44:38 AM   \n",
       "\n",
       "                  Call Type                      Initial Call Type  \\\n",
       "0                       911  ASSIST OTHER AGENCY - ROUTINE SERVICE   \n",
       "1  TELEPHONE OTHER, NOT 911                      PROPERTY - DAMAGE   \n",
       "2                       911  PERSON IN BEHAVIORAL/EMOTIONAL CRISIS   \n",
       "3                       911       DISTURBANCE, MISCELLANEOUS/OTHER   \n",
       "4                       911                    DIST - DV - NO ASLT   \n",
       "\n",
       "                         Final Call Type                     Disposition  \\\n",
       "0  --ASSIST OTHER AGENCY - COUNTY AGENCY                               -   \n",
       "1                  --DISTURBANCE - OTHER  No Action Possible / Necessary   \n",
       "2           --CRISIS COMPLAINT - GENERAL             Voluntary Committal   \n",
       "3           --CRISIS COMPLAINT - GENERAL  No Action Possible / Necessary   \n",
       "4           --CRISIS COMPLAINT - GENERAL              Resources Declined   \n",
       "\n",
       "  Use of Force Indicator Subject Veteran Indicator  ...       Officer Race  \\\n",
       "0                      N                         N  ...  Two or More Races   \n",
       "1                      N                         N  ...              White   \n",
       "2                      N                         N  ...              White   \n",
       "3                      N                         N  ...              Asian   \n",
       "4                      N                         N  ...              White   \n",
       "\n",
       "  Officer Year of Birth Officer Years of Experience CIT Certified Indicator  \\\n",
       "0                  1990                          -1                       N   \n",
       "1                  1991                          -1                       N   \n",
       "2                  1982                          -1                       N   \n",
       "3                  1987                          -1                       N   \n",
       "4                  1986                          -1                       N   \n",
       "\n",
       "  Officer Bureau Desc Officer Precinct Desc  Officer Squad Desc  Precinct  \\\n",
       "0                 NaN                   NaN                 NaN     North   \n",
       "1                 NaN                   NaN                 NaN     North   \n",
       "2                 NaN                   NaN                 NaN     North   \n",
       "3                 NaN                   NaN                 NaN      East   \n",
       "4                 NaN                   NaN                 NaN      West   \n",
       "\n",
       "    Sector Beat  \n",
       "0      BOY   B3  \n",
       "1    UNION   U2  \n",
       "2    UNION   U2  \n",
       "3  CHARLIE   C2  \n",
       "4    QUEEN   Q3  \n",
       "\n",
       "[5 rows x 25 columns]"
      ]
     },
     "execution_count": 128,
     "metadata": {},
     "output_type": "execute_result"
    }
   ],
   "source": [
    "df=pd.read_csv(\"Crisis_Data.csv\")\n",
    "df.head()"
   ]
  },
  {
   "cell_type": "markdown",
   "metadata": {},
   "source": [
    "##### Listing all the columns in the dataset"
   ]
  },
  {
   "cell_type": "code",
   "execution_count": 130,
   "metadata": {},
   "outputs": [
    {
     "data": {
      "text/plain": [
       "Index(['Template ID', 'Reported Date', 'Reported Time', 'Occurred Date / Time',\n",
       "       'Call Type', 'Initial Call Type', 'Final Call Type', 'Disposition',\n",
       "       'Use of Force Indicator', 'Subject Veteran Indicator',\n",
       "       'CIT Officer Requested', 'CIT Officer Dispatched',\n",
       "       'CIT Officer Arrived', 'Officer ID', 'Officer Gender', 'Officer Race',\n",
       "       'Officer Year of Birth', 'Officer Years of Experience',\n",
       "       'CIT Certified Indicator', 'Officer Bureau Desc',\n",
       "       'Officer Precinct Desc', 'Officer Squad Desc', 'Precinct', 'Sector',\n",
       "       'Beat'],\n",
       "      dtype='object')"
      ]
     },
     "execution_count": 130,
     "metadata": {},
     "output_type": "execute_result"
    }
   ],
   "source": [
    "df.columns"
   ]
  },
  {
   "cell_type": "markdown",
   "metadata": {},
   "source": [
    "**Template ID**: Key identifying unique Crisis Templates. This should be used to generate counts\n",
    "\n",
    "**Reported Date**: Date the crisis Template was reported in the records management system can vary +1 day from the occurred date\n",
    "\n",
    "**Reported Time**: Time the crisis template was reported in the records management system. Can vary several hours from the occurred time\n",
    "\n",
    "**Occurred Date/Time**: Occurred date and time of the event associated with the crisis template. Can be null where no association can be made   o the underlying event\n",
    "\n",
    "**Call Type**: How the call was received from\n",
    "\n",
    "**Initial Call Type**: Initial classification of the call was made by the communication centre at the time of dispatch\n",
    "\n",
    "**Final Call Type**: Final classification of the call was made by the officer closing the call, will differ from the initial call type\n",
    "\n",
    "**Disposition**: Disposition of the crisis Template (one template per person per crisis involved contact) as reported by the officer\n",
    "\n",
    "**Use of Force Indicator**: Indicates whether reported force was used or not\n",
    "\n",
    "**Subject veteran indicator**: Indicates whether the subject of the crisis contact was identified by the officer as a veteran \n",
    "\n",
    "**CIT officer requested**: Indicates whether a crisis Intervention Team officer requested to respond the call\n",
    "\n",
    "**CIT officer dispatched**: Indicates whether a crisis Intervention Team officer dispatched to the call\n",
    "\n",
    "**CIT officer arrived**: Indicates whether a crisis Intervention Team officer arrived on the call\n",
    "\n",
    "**Officer ID**: Unique ID\n",
    "\n",
    "**Officer gender**: Gender of the officer (self-report), from HR data\n",
    "\n",
    "**Officer Years of experience**: Years of law enforcement experience at the time the Crisis Template was reported in the Records Management System\n",
    "\n",
    "**CIT certified Indicator**: CIT certification status of the officer at the time of event\n",
    "\n",
    "**Officer Bureau Desc**: Bureau the officer was assigned to, at the time the crisis template was reported in the records management system\n",
    "\n",
    "**Officer Precinct Desc**: Precinct the officer was assigned to, at the time the crisis template was reported in the records management system\n",
    "\n",
    "**Officer Squad Desc**:  Squad the officer was assigned to, at the time the crisis template was reported in the records management system \n",
    "\n",
    "**Precint** : Geographic Precint area where call was located\n",
    "\n",
    "**Sector**: Geographic Sector area where call was located\n",
    "\n",
    "**Beat**: Geographic Beat where call was located"
   ]
  },
  {
   "cell_type": "markdown",
   "metadata": {},
   "source": [
    "##### Printing Information about the DataFrame"
   ]
  },
  {
   "cell_type": "code",
   "execution_count": 19,
   "metadata": {},
   "outputs": [
    {
     "name": "stdout",
     "output_type": "stream",
     "text": [
      "<class 'pandas.core.frame.DataFrame'>\n",
      "RangeIndex: 70928 entries, 0 to 70927\n",
      "Data columns (total 25 columns):\n",
      " #   Column                       Non-Null Count  Dtype \n",
      "---  ------                       --------------  ----- \n",
      " 0   Template ID                  70928 non-null  int64 \n",
      " 1   Reported Date                70928 non-null  object\n",
      " 2   Reported Time                70928 non-null  object\n",
      " 3   Occurred Date / Time         70928 non-null  object\n",
      " 4   Call Type                    70928 non-null  object\n",
      " 5   Initial Call Type            70928 non-null  object\n",
      " 6   Final Call Type              70928 non-null  object\n",
      " 7   Disposition                  70928 non-null  object\n",
      " 8   Use of Force Indicator       70928 non-null  object\n",
      " 9   Subject Veteran Indicator    70928 non-null  object\n",
      " 10  CIT Officer Requested        70928 non-null  object\n",
      " 11  CIT Officer Dispatched       70928 non-null  object\n",
      " 12  CIT Officer Arrived          70928 non-null  object\n",
      " 13  Officer ID                   70928 non-null  object\n",
      " 14  Officer Gender               70928 non-null  object\n",
      " 15  Officer Race                 70928 non-null  object\n",
      " 16  Officer Year of Birth        70928 non-null  int64 \n",
      " 17  Officer Years of Experience  70928 non-null  int64 \n",
      " 18  CIT Certified Indicator      70928 non-null  object\n",
      " 19  Officer Bureau Desc          65180 non-null  object\n",
      " 20  Officer Precinct Desc        64840 non-null  object\n",
      " 21  Officer Squad Desc           65229 non-null  object\n",
      " 22  Precinct                     70928 non-null  object\n",
      " 23  Sector                       70928 non-null  object\n",
      " 24  Beat                         70928 non-null  object\n",
      "dtypes: int64(3), object(22)\n",
      "memory usage: 13.5+ MB\n"
     ]
    }
   ],
   "source": [
    "df.info()"
   ]
  },
  {
   "cell_type": "markdown",
   "metadata": {},
   "source": [
    "##### Displaying Unique values in respective columns "
   ]
  },
  {
   "cell_type": "code",
   "execution_count": 20,
   "metadata": {},
   "outputs": [
    {
     "data": {
      "text/plain": [
       "Template ID                    69990\n",
       "Reported Date                   2527\n",
       "Reported Time                      1\n",
       "Occurred Date / Time           63985\n",
       "Call Type                          9\n",
       "Initial Call Type                175\n",
       "Final Call Type                  210\n",
       "Disposition                       30\n",
       "Use of Force Indicator             2\n",
       "Subject Veteran Indicator          2\n",
       "CIT Officer Requested              2\n",
       "CIT Officer Dispatched             2\n",
       "CIT Officer Arrived                2\n",
       "Officer ID                      1259\n",
       "Officer Gender                     3\n",
       "Officer Race                       9\n",
       "Officer Year of Birth             53\n",
       "Officer Years of Experience       82\n",
       "CIT Certified Indicator            2\n",
       "Officer Bureau Desc                6\n",
       "Officer Precinct Desc             25\n",
       "Officer Squad Desc               182\n",
       "Precinct                           8\n",
       "Sector                            18\n",
       "Beat                              54\n",
       "dtype: int64"
      ]
     },
     "execution_count": 20,
     "metadata": {},
     "output_type": "execute_result"
    }
   ],
   "source": [
    "df.nunique()"
   ]
  },
  {
   "cell_type": "markdown",
   "metadata": {},
   "source": [
    "Inferences:\n",
    "\n",
    "We can see that the columns Template ID, Reported Date has 69930, 2525 unique values respectively"
   ]
  },
  {
   "cell_type": "markdown",
   "metadata": {},
   "source": [
    "##### printing the shape of the dataframe"
   ]
  },
  {
   "cell_type": "code",
   "execution_count": 21,
   "metadata": {},
   "outputs": [
    {
     "name": "stdout",
     "output_type": "stream",
     "text": [
      "(70928, 25)\n",
      "Number of rows: 70928\n",
      "Number of columns: 25\n"
     ]
    }
   ],
   "source": [
    "print(df.shape)\n",
    "print(\"Number of rows:\", df.shape[0])\n",
    "print(\"Number of columns:\", df.shape[1])"
   ]
  },
  {
   "cell_type": "markdown",
   "metadata": {},
   "source": [
    "#### Null Values in Dataset"
   ]
  },
  {
   "cell_type": "code",
   "execution_count": 22,
   "metadata": {},
   "outputs": [
    {
     "data": {
      "text/plain": [
       "Template ID                       0\n",
       "Reported Date                     0\n",
       "Reported Time                     0\n",
       "Occurred Date / Time              0\n",
       "Call Type                         0\n",
       "Initial Call Type                 0\n",
       "Final Call Type                   0\n",
       "Disposition                       0\n",
       "Use of Force Indicator            0\n",
       "Subject Veteran Indicator         0\n",
       "CIT Officer Requested             0\n",
       "CIT Officer Dispatched            0\n",
       "CIT Officer Arrived               0\n",
       "Officer ID                        0\n",
       "Officer Gender                    0\n",
       "Officer Race                      0\n",
       "Officer Year of Birth             0\n",
       "Officer Years of Experience       0\n",
       "CIT Certified Indicator           0\n",
       "Officer Bureau Desc            5748\n",
       "Officer Precinct Desc          6088\n",
       "Officer Squad Desc             5699\n",
       "Precinct                          0\n",
       "Sector                            0\n",
       "Beat                              0\n",
       "dtype: int64"
      ]
     },
     "execution_count": 22,
     "metadata": {},
     "output_type": "execute_result"
    }
   ],
   "source": [
    "#Displaying null values in the dataset with respect to the columns\n",
    "df.isna().sum()"
   ]
  },
  {
   "cell_type": "markdown",
   "metadata": {},
   "source": [
    "Inferences: \n",
    "\n",
    "The columns Officer Bureau Desc, Officer Precinct Desc, Officer Squad Desc has 5742, 6085, 5696 null values respectively."
   ]
  },
  {
   "cell_type": "markdown",
   "metadata": {},
   "source": [
    "##### Summary of numerical columns"
   ]
  },
  {
   "cell_type": "code",
   "execution_count": 23,
   "metadata": {},
   "outputs": [
    {
     "data": {
      "text/html": [
       "<div>\n",
       "<style scoped>\n",
       "    .dataframe tbody tr th:only-of-type {\n",
       "        vertical-align: middle;\n",
       "    }\n",
       "\n",
       "    .dataframe tbody tr th {\n",
       "        vertical-align: top;\n",
       "    }\n",
       "\n",
       "    .dataframe thead th {\n",
       "        text-align: right;\n",
       "    }\n",
       "</style>\n",
       "<table border=\"1\" class=\"dataframe\">\n",
       "  <thead>\n",
       "    <tr style=\"text-align: right;\">\n",
       "      <th></th>\n",
       "      <th>Template ID</th>\n",
       "      <th>Officer Year of Birth</th>\n",
       "      <th>Officer Years of Experience</th>\n",
       "    </tr>\n",
       "  </thead>\n",
       "  <tbody>\n",
       "    <tr>\n",
       "      <th>count</th>\n",
       "      <td>7.092800e+04</td>\n",
       "      <td>70928.000000</td>\n",
       "      <td>70928.000000</td>\n",
       "    </tr>\n",
       "    <tr>\n",
       "      <th>mean</th>\n",
       "      <td>8.089804e+09</td>\n",
       "      <td>1982.190982</td>\n",
       "      <td>8.074724</td>\n",
       "    </tr>\n",
       "    <tr>\n",
       "      <th>std</th>\n",
       "      <td>1.068101e+10</td>\n",
       "      <td>10.796279</td>\n",
       "      <td>9.923349</td>\n",
       "    </tr>\n",
       "    <tr>\n",
       "      <th>min</th>\n",
       "      <td>4.346900e+04</td>\n",
       "      <td>1900.000000</td>\n",
       "      <td>-48.000000</td>\n",
       "    </tr>\n",
       "    <tr>\n",
       "      <th>25%</th>\n",
       "      <td>2.567618e+05</td>\n",
       "      <td>1976.000000</td>\n",
       "      <td>2.000000</td>\n",
       "    </tr>\n",
       "    <tr>\n",
       "      <th>50%</th>\n",
       "      <td>5.010235e+05</td>\n",
       "      <td>1985.000000</td>\n",
       "      <td>4.000000</td>\n",
       "    </tr>\n",
       "    <tr>\n",
       "      <th>75%</th>\n",
       "      <td>1.465038e+10</td>\n",
       "      <td>1990.000000</td>\n",
       "      <td>11.000000</td>\n",
       "    </tr>\n",
       "    <tr>\n",
       "      <th>max</th>\n",
       "      <td>3.274825e+10</td>\n",
       "      <td>2000.000000</td>\n",
       "      <td>80.000000</td>\n",
       "    </tr>\n",
       "  </tbody>\n",
       "</table>\n",
       "</div>"
      ],
      "text/plain": [
       "        Template ID  Officer Year of Birth  Officer Years of Experience\n",
       "count  7.092800e+04           70928.000000                 70928.000000\n",
       "mean   8.089804e+09            1982.190982                     8.074724\n",
       "std    1.068101e+10              10.796279                     9.923349\n",
       "min    4.346900e+04            1900.000000                   -48.000000\n",
       "25%    2.567618e+05            1976.000000                     2.000000\n",
       "50%    5.010235e+05            1985.000000                     4.000000\n",
       "75%    1.465038e+10            1990.000000                    11.000000\n",
       "max    3.274825e+10            2000.000000                    80.000000"
      ]
     },
     "execution_count": 23,
     "metadata": {},
     "output_type": "execute_result"
    }
   ],
   "source": [
    "#Displaying summary of numerical columns\n",
    "df.describe()"
   ]
  },
  {
   "cell_type": "markdown",
   "metadata": {},
   "source": [
    "Inferences: \n",
    "    \n",
    "We can see that the number of Years of experiene of Officers is 80. The officers also has years of births ranging from 1900 to 2000."
   ]
  },
  {
   "cell_type": "code",
   "execution_count": 24,
   "metadata": {},
   "outputs": [
    {
     "data": {
      "text/html": [
       "<div>\n",
       "<style scoped>\n",
       "    .dataframe tbody tr th:only-of-type {\n",
       "        vertical-align: middle;\n",
       "    }\n",
       "\n",
       "    .dataframe tbody tr th {\n",
       "        vertical-align: top;\n",
       "    }\n",
       "\n",
       "    .dataframe thead th {\n",
       "        text-align: right;\n",
       "    }\n",
       "</style>\n",
       "<table border=\"1\" class=\"dataframe\">\n",
       "  <thead>\n",
       "    <tr style=\"text-align: right;\">\n",
       "      <th></th>\n",
       "      <th>Template ID</th>\n",
       "      <th>Reported Date</th>\n",
       "      <th>Reported Time</th>\n",
       "      <th>Occurred Date / Time</th>\n",
       "      <th>Call Type</th>\n",
       "      <th>Initial Call Type</th>\n",
       "      <th>Final Call Type</th>\n",
       "      <th>Disposition</th>\n",
       "      <th>Use of Force Indicator</th>\n",
       "      <th>Subject Veteran Indicator</th>\n",
       "      <th>...</th>\n",
       "      <th>Officer Race</th>\n",
       "      <th>Officer Year of Birth</th>\n",
       "      <th>Officer Years of Experience</th>\n",
       "      <th>CIT Certified Indicator</th>\n",
       "      <th>Officer Bureau Desc</th>\n",
       "      <th>Officer Precinct Desc</th>\n",
       "      <th>Officer Squad Desc</th>\n",
       "      <th>Precinct</th>\n",
       "      <th>Sector</th>\n",
       "      <th>Beat</th>\n",
       "    </tr>\n",
       "  </thead>\n",
       "  <tbody>\n",
       "    <tr>\n",
       "      <th>count</th>\n",
       "      <td>7.092800e+04</td>\n",
       "      <td>70928</td>\n",
       "      <td>70928</td>\n",
       "      <td>70928</td>\n",
       "      <td>70928</td>\n",
       "      <td>70928</td>\n",
       "      <td>70928</td>\n",
       "      <td>70928</td>\n",
       "      <td>70928</td>\n",
       "      <td>70928</td>\n",
       "      <td>...</td>\n",
       "      <td>70928</td>\n",
       "      <td>70928.000000</td>\n",
       "      <td>70928.000000</td>\n",
       "      <td>70928</td>\n",
       "      <td>65180</td>\n",
       "      <td>64840</td>\n",
       "      <td>65229</td>\n",
       "      <td>70928</td>\n",
       "      <td>70928</td>\n",
       "      <td>70928</td>\n",
       "    </tr>\n",
       "    <tr>\n",
       "      <th>unique</th>\n",
       "      <td>NaN</td>\n",
       "      <td>2527</td>\n",
       "      <td>1</td>\n",
       "      <td>63985</td>\n",
       "      <td>9</td>\n",
       "      <td>175</td>\n",
       "      <td>210</td>\n",
       "      <td>30</td>\n",
       "      <td>2</td>\n",
       "      <td>2</td>\n",
       "      <td>...</td>\n",
       "      <td>9</td>\n",
       "      <td>NaN</td>\n",
       "      <td>NaN</td>\n",
       "      <td>2</td>\n",
       "      <td>6</td>\n",
       "      <td>25</td>\n",
       "      <td>182</td>\n",
       "      <td>8</td>\n",
       "      <td>18</td>\n",
       "      <td>54</td>\n",
       "    </tr>\n",
       "    <tr>\n",
       "      <th>top</th>\n",
       "      <td>NaN</td>\n",
       "      <td>2021-05-21T00:00:00</td>\n",
       "      <td>00:00:00</td>\n",
       "      <td>01/01/1900 12:00:00 AM</td>\n",
       "      <td>911</td>\n",
       "      <td>PERSON IN BEHAVIORAL/EMOTIONAL CRISIS</td>\n",
       "      <td>--CRISIS COMPLAINT - GENERAL</td>\n",
       "      <td>Emergent Detention / ITA</td>\n",
       "      <td>N</td>\n",
       "      <td>N</td>\n",
       "      <td>...</td>\n",
       "      <td>White</td>\n",
       "      <td>NaN</td>\n",
       "      <td>NaN</td>\n",
       "      <td>N</td>\n",
       "      <td>OPERATIONS BUREAU</td>\n",
       "      <td>WEST PCT</td>\n",
       "      <td>TRAINING - FIELD TRAINING SQUAD</td>\n",
       "      <td>West</td>\n",
       "      <td>KING</td>\n",
       "      <td>-</td>\n",
       "    </tr>\n",
       "    <tr>\n",
       "      <th>freq</th>\n",
       "      <td>NaN</td>\n",
       "      <td>52</td>\n",
       "      <td>70928</td>\n",
       "      <td>5501</td>\n",
       "      <td>47926</td>\n",
       "      <td>12667</td>\n",
       "      <td>49609</td>\n",
       "      <td>21714</td>\n",
       "      <td>69772</td>\n",
       "      <td>69263</td>\n",
       "      <td>...</td>\n",
       "      <td>48535</td>\n",
       "      <td>NaN</td>\n",
       "      <td>NaN</td>\n",
       "      <td>38754</td>\n",
       "      <td>57864</td>\n",
       "      <td>17190</td>\n",
       "      <td>6449</td>\n",
       "      <td>19162</td>\n",
       "      <td>6675</td>\n",
       "      <td>5833</td>\n",
       "    </tr>\n",
       "    <tr>\n",
       "      <th>mean</th>\n",
       "      <td>8.089804e+09</td>\n",
       "      <td>NaN</td>\n",
       "      <td>NaN</td>\n",
       "      <td>NaN</td>\n",
       "      <td>NaN</td>\n",
       "      <td>NaN</td>\n",
       "      <td>NaN</td>\n",
       "      <td>NaN</td>\n",
       "      <td>NaN</td>\n",
       "      <td>NaN</td>\n",
       "      <td>...</td>\n",
       "      <td>NaN</td>\n",
       "      <td>1982.190982</td>\n",
       "      <td>8.074724</td>\n",
       "      <td>NaN</td>\n",
       "      <td>NaN</td>\n",
       "      <td>NaN</td>\n",
       "      <td>NaN</td>\n",
       "      <td>NaN</td>\n",
       "      <td>NaN</td>\n",
       "      <td>NaN</td>\n",
       "    </tr>\n",
       "    <tr>\n",
       "      <th>std</th>\n",
       "      <td>1.068101e+10</td>\n",
       "      <td>NaN</td>\n",
       "      <td>NaN</td>\n",
       "      <td>NaN</td>\n",
       "      <td>NaN</td>\n",
       "      <td>NaN</td>\n",
       "      <td>NaN</td>\n",
       "      <td>NaN</td>\n",
       "      <td>NaN</td>\n",
       "      <td>NaN</td>\n",
       "      <td>...</td>\n",
       "      <td>NaN</td>\n",
       "      <td>10.796279</td>\n",
       "      <td>9.923349</td>\n",
       "      <td>NaN</td>\n",
       "      <td>NaN</td>\n",
       "      <td>NaN</td>\n",
       "      <td>NaN</td>\n",
       "      <td>NaN</td>\n",
       "      <td>NaN</td>\n",
       "      <td>NaN</td>\n",
       "    </tr>\n",
       "    <tr>\n",
       "      <th>min</th>\n",
       "      <td>4.346900e+04</td>\n",
       "      <td>NaN</td>\n",
       "      <td>NaN</td>\n",
       "      <td>NaN</td>\n",
       "      <td>NaN</td>\n",
       "      <td>NaN</td>\n",
       "      <td>NaN</td>\n",
       "      <td>NaN</td>\n",
       "      <td>NaN</td>\n",
       "      <td>NaN</td>\n",
       "      <td>...</td>\n",
       "      <td>NaN</td>\n",
       "      <td>1900.000000</td>\n",
       "      <td>-48.000000</td>\n",
       "      <td>NaN</td>\n",
       "      <td>NaN</td>\n",
       "      <td>NaN</td>\n",
       "      <td>NaN</td>\n",
       "      <td>NaN</td>\n",
       "      <td>NaN</td>\n",
       "      <td>NaN</td>\n",
       "    </tr>\n",
       "    <tr>\n",
       "      <th>25%</th>\n",
       "      <td>2.567618e+05</td>\n",
       "      <td>NaN</td>\n",
       "      <td>NaN</td>\n",
       "      <td>NaN</td>\n",
       "      <td>NaN</td>\n",
       "      <td>NaN</td>\n",
       "      <td>NaN</td>\n",
       "      <td>NaN</td>\n",
       "      <td>NaN</td>\n",
       "      <td>NaN</td>\n",
       "      <td>...</td>\n",
       "      <td>NaN</td>\n",
       "      <td>1976.000000</td>\n",
       "      <td>2.000000</td>\n",
       "      <td>NaN</td>\n",
       "      <td>NaN</td>\n",
       "      <td>NaN</td>\n",
       "      <td>NaN</td>\n",
       "      <td>NaN</td>\n",
       "      <td>NaN</td>\n",
       "      <td>NaN</td>\n",
       "    </tr>\n",
       "    <tr>\n",
       "      <th>50%</th>\n",
       "      <td>5.010235e+05</td>\n",
       "      <td>NaN</td>\n",
       "      <td>NaN</td>\n",
       "      <td>NaN</td>\n",
       "      <td>NaN</td>\n",
       "      <td>NaN</td>\n",
       "      <td>NaN</td>\n",
       "      <td>NaN</td>\n",
       "      <td>NaN</td>\n",
       "      <td>NaN</td>\n",
       "      <td>...</td>\n",
       "      <td>NaN</td>\n",
       "      <td>1985.000000</td>\n",
       "      <td>4.000000</td>\n",
       "      <td>NaN</td>\n",
       "      <td>NaN</td>\n",
       "      <td>NaN</td>\n",
       "      <td>NaN</td>\n",
       "      <td>NaN</td>\n",
       "      <td>NaN</td>\n",
       "      <td>NaN</td>\n",
       "    </tr>\n",
       "    <tr>\n",
       "      <th>75%</th>\n",
       "      <td>1.465038e+10</td>\n",
       "      <td>NaN</td>\n",
       "      <td>NaN</td>\n",
       "      <td>NaN</td>\n",
       "      <td>NaN</td>\n",
       "      <td>NaN</td>\n",
       "      <td>NaN</td>\n",
       "      <td>NaN</td>\n",
       "      <td>NaN</td>\n",
       "      <td>NaN</td>\n",
       "      <td>...</td>\n",
       "      <td>NaN</td>\n",
       "      <td>1990.000000</td>\n",
       "      <td>11.000000</td>\n",
       "      <td>NaN</td>\n",
       "      <td>NaN</td>\n",
       "      <td>NaN</td>\n",
       "      <td>NaN</td>\n",
       "      <td>NaN</td>\n",
       "      <td>NaN</td>\n",
       "      <td>NaN</td>\n",
       "    </tr>\n",
       "    <tr>\n",
       "      <th>max</th>\n",
       "      <td>3.274825e+10</td>\n",
       "      <td>NaN</td>\n",
       "      <td>NaN</td>\n",
       "      <td>NaN</td>\n",
       "      <td>NaN</td>\n",
       "      <td>NaN</td>\n",
       "      <td>NaN</td>\n",
       "      <td>NaN</td>\n",
       "      <td>NaN</td>\n",
       "      <td>NaN</td>\n",
       "      <td>...</td>\n",
       "      <td>NaN</td>\n",
       "      <td>2000.000000</td>\n",
       "      <td>80.000000</td>\n",
       "      <td>NaN</td>\n",
       "      <td>NaN</td>\n",
       "      <td>NaN</td>\n",
       "      <td>NaN</td>\n",
       "      <td>NaN</td>\n",
       "      <td>NaN</td>\n",
       "      <td>NaN</td>\n",
       "    </tr>\n",
       "  </tbody>\n",
       "</table>\n",
       "<p>11 rows × 25 columns</p>\n",
       "</div>"
      ],
      "text/plain": [
       "         Template ID        Reported Date Reported Time  \\\n",
       "count   7.092800e+04                70928         70928   \n",
       "unique           NaN                 2527             1   \n",
       "top              NaN  2021-05-21T00:00:00      00:00:00   \n",
       "freq             NaN                   52         70928   \n",
       "mean    8.089804e+09                  NaN           NaN   \n",
       "std     1.068101e+10                  NaN           NaN   \n",
       "min     4.346900e+04                  NaN           NaN   \n",
       "25%     2.567618e+05                  NaN           NaN   \n",
       "50%     5.010235e+05                  NaN           NaN   \n",
       "75%     1.465038e+10                  NaN           NaN   \n",
       "max     3.274825e+10                  NaN           NaN   \n",
       "\n",
       "          Occurred Date / Time Call Type  \\\n",
       "count                    70928     70928   \n",
       "unique                   63985         9   \n",
       "top     01/01/1900 12:00:00 AM       911   \n",
       "freq                      5501     47926   \n",
       "mean                       NaN       NaN   \n",
       "std                        NaN       NaN   \n",
       "min                        NaN       NaN   \n",
       "25%                        NaN       NaN   \n",
       "50%                        NaN       NaN   \n",
       "75%                        NaN       NaN   \n",
       "max                        NaN       NaN   \n",
       "\n",
       "                            Initial Call Type               Final Call Type  \\\n",
       "count                                   70928                         70928   \n",
       "unique                                    175                           210   \n",
       "top     PERSON IN BEHAVIORAL/EMOTIONAL CRISIS  --CRISIS COMPLAINT - GENERAL   \n",
       "freq                                    12667                         49609   \n",
       "mean                                      NaN                           NaN   \n",
       "std                                       NaN                           NaN   \n",
       "min                                       NaN                           NaN   \n",
       "25%                                       NaN                           NaN   \n",
       "50%                                       NaN                           NaN   \n",
       "75%                                       NaN                           NaN   \n",
       "max                                       NaN                           NaN   \n",
       "\n",
       "                     Disposition Use of Force Indicator  \\\n",
       "count                      70928                  70928   \n",
       "unique                        30                      2   \n",
       "top     Emergent Detention / ITA                      N   \n",
       "freq                       21714                  69772   \n",
       "mean                         NaN                    NaN   \n",
       "std                          NaN                    NaN   \n",
       "min                          NaN                    NaN   \n",
       "25%                          NaN                    NaN   \n",
       "50%                          NaN                    NaN   \n",
       "75%                          NaN                    NaN   \n",
       "max                          NaN                    NaN   \n",
       "\n",
       "       Subject Veteran Indicator  ... Officer Race Officer Year of Birth  \\\n",
       "count                      70928  ...        70928          70928.000000   \n",
       "unique                         2  ...            9                   NaN   \n",
       "top                            N  ...        White                   NaN   \n",
       "freq                       69263  ...        48535                   NaN   \n",
       "mean                         NaN  ...          NaN           1982.190982   \n",
       "std                          NaN  ...          NaN             10.796279   \n",
       "min                          NaN  ...          NaN           1900.000000   \n",
       "25%                          NaN  ...          NaN           1976.000000   \n",
       "50%                          NaN  ...          NaN           1985.000000   \n",
       "75%                          NaN  ...          NaN           1990.000000   \n",
       "max                          NaN  ...          NaN           2000.000000   \n",
       "\n",
       "       Officer Years of Experience CIT Certified Indicator  \\\n",
       "count                 70928.000000                   70928   \n",
       "unique                         NaN                       2   \n",
       "top                            NaN                       N   \n",
       "freq                           NaN                   38754   \n",
       "mean                      8.074724                     NaN   \n",
       "std                       9.923349                     NaN   \n",
       "min                     -48.000000                     NaN   \n",
       "25%                       2.000000                     NaN   \n",
       "50%                       4.000000                     NaN   \n",
       "75%                      11.000000                     NaN   \n",
       "max                      80.000000                     NaN   \n",
       "\n",
       "       Officer Bureau Desc Officer Precinct Desc  \\\n",
       "count                65180                 64840   \n",
       "unique                   6                    25   \n",
       "top      OPERATIONS BUREAU              WEST PCT   \n",
       "freq                 57864                 17190   \n",
       "mean                   NaN                   NaN   \n",
       "std                    NaN                   NaN   \n",
       "min                    NaN                   NaN   \n",
       "25%                    NaN                   NaN   \n",
       "50%                    NaN                   NaN   \n",
       "75%                    NaN                   NaN   \n",
       "max                    NaN                   NaN   \n",
       "\n",
       "                     Officer Squad Desc  Precinct Sector   Beat  \n",
       "count                             65229     70928  70928  70928  \n",
       "unique                              182         8     18     54  \n",
       "top     TRAINING - FIELD TRAINING SQUAD      West   KING      -  \n",
       "freq                               6449     19162   6675   5833  \n",
       "mean                                NaN       NaN    NaN    NaN  \n",
       "std                                 NaN       NaN    NaN    NaN  \n",
       "min                                 NaN       NaN    NaN    NaN  \n",
       "25%                                 NaN       NaN    NaN    NaN  \n",
       "50%                                 NaN       NaN    NaN    NaN  \n",
       "75%                                 NaN       NaN    NaN    NaN  \n",
       "max                                 NaN       NaN    NaN    NaN  \n",
       "\n",
       "[11 rows x 25 columns]"
      ]
     },
     "execution_count": 24,
     "metadata": {},
     "output_type": "execute_result"
    }
   ],
   "source": [
    "#Displaying the description of all columns\n",
    "df.describe(include = 'all')"
   ]
  },
  {
   "cell_type": "markdown",
   "metadata": {},
   "source": [
    "Inferences: \n",
    "\n",
    "The statistics of all the columns are displayed."
   ]
  },
  {
   "cell_type": "markdown",
   "metadata": {},
   "source": [
    "##### Displaying the crisis counts of Reported Date with repect to the months & years"
   ]
  },
  {
   "cell_type": "code",
   "execution_count": 25,
   "metadata": {},
   "outputs": [],
   "source": [
    "df['Reprted_Year']=pd.to_datetime(df['Reported Date']).dt.year\n",
    "df['Reported_Month']=pd.to_datetime(df['Reported Date']).dt.month"
   ]
  },
  {
   "cell_type": "code",
   "execution_count": 26,
   "metadata": {},
   "outputs": [
    {
     "data": {
      "text/plain": [
       "Text(0, 0.5, 'Count')"
      ]
     },
     "execution_count": 26,
     "metadata": {},
     "output_type": "execute_result"
    },
    {
     "data": {
      "image/png": "[encoded data removed]",
      "text/plain": [
       "<Figure size 432x288 with 1 Axes>"
      ]
     },
     "metadata": {
      "needs_background": "light"
     },
     "output_type": "display_data"
    }
   ],
   "source": [
    "#plt.xticks([2015,2016,2107,2018,2019,2020,2021,2022])\n",
    "#df['Reprted_Year'].value_counts().plot(kind='bar')\n",
    "sns.countplot(data=df, x=\"Reprted_Year\")\n",
    "plt.title('Analysis of Crisis Counts Reported with respect to reported year')\n",
    "plt.xlabel('Year')\n",
    "plt.ylabel('Count')\n",
    "#plt.xticks([2015,2016,2107,2018,2019,2020,2021,2022])"
   ]
  },
  {
   "cell_type": "markdown",
   "metadata": {},
   "source": [
    "Inferences:\n",
    "\n",
    "We can see that most of the most of the crisis are reported in 2018 and least in 2022. "
   ]
  },
  {
   "cell_type": "code",
   "execution_count": 27,
   "metadata": {},
   "outputs": [
    {
     "data": {
      "text/plain": [
       "Text(0, 0.5, 'Count')"
      ]
     },
     "execution_count": 27,
     "metadata": {},
     "output_type": "execute_result"
    },
    {
     "data": {
      "image/png": "[encoded data removed]",
      "text/plain": [
       "<Figure size 432x288 with 1 Axes>"
      ]
     },
     "metadata": {
      "needs_background": "light"
     },
     "output_type": "display_data"
    }
   ],
   "source": [
    "df['Reported_Month'].value_counts().plot(kind='bar')\n",
    "plt.title('Analysis of Crisis Counts reported with respect to reported Month')\n",
    "plt.xlabel('Month')\n",
    "plt.ylabel('Count')"
   ]
  },
  {
   "cell_type": "markdown",
   "metadata": {},
   "source": [
    "Inferences:\n",
    "\n",
    "We can see that most of the most of the crisis are reported in month of July and least in April. "
   ]
  },
  {
   "cell_type": "markdown",
   "metadata": {},
   "source": [
    "##### Displaying the counts of Occurred Date / Time with repect to the months & years"
   ]
  },
  {
   "cell_type": "code",
   "execution_count": 28,
   "metadata": {},
   "outputs": [],
   "source": [
    "df['Occurred_Year']=pd.to_datetime(df['Occurred Date / Time']).dt.year\n",
    "df['Occurred_Month']=pd.to_datetime(df['Occurred Date / Time']).dt.month"
   ]
  },
  {
   "cell_type": "code",
   "execution_count": 29,
   "metadata": {},
   "outputs": [
    {
     "data": {
      "text/plain": [
       "Text(0, 0.5, 'Count')"
      ]
     },
     "execution_count": 29,
     "metadata": {},
     "output_type": "execute_result"
    },
    {
     "data": {
      "image/png": "[encoded data removed]",
      "text/plain": [
       "<Figure size 432x288 with 1 Axes>"
      ]
     },
     "metadata": {
      "needs_background": "light"
     },
     "output_type": "display_data"
    }
   ],
   "source": [
    "#df['Occurred_Year'].value_counts().plot(kind='bar')\n",
    "sns.countplot(data=df, x=\"Occurred_Year\")\n",
    "plt.title('Analysis of Crisis Occurred with respect to occurred year')\n",
    "plt.xlabel('Year')\n",
    "plt.ylabel('Count')"
   ]
  },
  {
   "cell_type": "markdown",
   "metadata": {},
   "source": [
    "Inferences:\n",
    "\n",
    "We can see that most of the crisis Occurred Date / Time 2018 and least in  2022"
   ]
  },
  {
   "cell_type": "code",
   "execution_count": 30,
   "metadata": {},
   "outputs": [
    {
     "data": {
      "text/plain": [
       "Text(0, 0.5, 'Count')"
      ]
     },
     "execution_count": 30,
     "metadata": {},
     "output_type": "execute_result"
    },
    {
     "data": {
      "image/png": "[encoded data removed]",
      "text/plain": [
       "<Figure size 432x288 with 1 Axes>"
      ]
     },
     "metadata": {
      "needs_background": "light"
     },
     "output_type": "display_data"
    }
   ],
   "source": [
    "df['Occurred_Month'].value_counts().plot(kind='bar')\n",
    "plt.title('Analysis of Crisis Occurred with respect to occurred Month')\n",
    "plt.xlabel('month')\n",
    "plt.ylabel('Count')"
   ]
  },
  {
   "cell_type": "markdown",
   "metadata": {},
   "source": [
    "Inferences:\n",
    "\n",
    "We can see that most of the crisis Occurred in January and least in April"
   ]
  },
  {
   "cell_type": "markdown",
   "metadata": {},
   "source": [
    "##### Converting CIT Certified Indicator from Categorical to Numerical"
   ]
  },
  {
   "cell_type": "code",
   "execution_count": 31,
   "metadata": {},
   "outputs": [],
   "source": [
    "df['CIT Certified Indicator']=df['CIT Certified Indicator'].map({'N':0,'Y':1})"
   ]
  },
  {
   "cell_type": "markdown",
   "metadata": {},
   "source": [
    "##### Plotting the graph of CIT Certified Indicator with respect to the Reprted_Year"
   ]
  },
  {
   "cell_type": "code",
   "execution_count": 32,
   "metadata": {},
   "outputs": [
    {
     "data": {
      "image/png": "[encoded data removed]",
      "text/plain": [
       "<Figure size 1080x288 with 1 Axes>"
      ]
     },
     "metadata": {
      "needs_background": "light"
     },
     "output_type": "display_data"
    }
   ],
   "source": [
    "plt.figure(figsize=(15,4))\n",
    "sns.lineplot(x='Reprted_Year',y='CIT Certified Indicator', data =df, color = 'b')\n",
    "plt.title(\"Graph showing the variations of CIT Certified Indicator with respect to Reprted_Year\")\n",
    "plt.xlabel(\"Reprted_Year\")\n",
    "plt.show()"
   ]
  },
  {
   "cell_type": "markdown",
   "metadata": {},
   "source": [
    "##### Plotting the graph of CIT Certified Indicator with respect to the Occurred_Year"
   ]
  },
  {
   "cell_type": "code",
   "execution_count": 33,
   "metadata": {},
   "outputs": [
    {
     "data": {
      "image/png": "[encoded data removed]",
      "text/plain": [
       "<Figure size 1080x288 with 1 Axes>"
      ]
     },
     "metadata": {
      "needs_background": "light"
     },
     "output_type": "display_data"
    }
   ],
   "source": [
    "plt.figure(figsize=(15,4))\n",
    "sns.lineplot(x='Occurred_Year',y='CIT Certified Indicator', data =df, color = 'g')\n",
    "plt.title(\"Graph showing the variations of CIT Certified Indicator with respect to Occurred_Year\")\n",
    "plt.xlabel(\"Occurred_Year\")\n",
    "plt.show()"
   ]
  },
  {
   "cell_type": "markdown",
   "metadata": {},
   "source": [
    "##### Plotting the graph of CIT Certified Indicator with respect to the Reprted_Month"
   ]
  },
  {
   "cell_type": "code",
   "execution_count": 34,
   "metadata": {},
   "outputs": [
    {
     "data": {
      "image/png": "[encoded data removed]",
      "text/plain": [
       "<Figure size 1080x288 with 1 Axes>"
      ]
     },
     "metadata": {
      "needs_background": "light"
     },
     "output_type": "display_data"
    }
   ],
   "source": [
    "plt.figure(figsize=(15,4))\n",
    "sns.lineplot(x='Reported_Month',y='CIT Certified Indicator', data =df, color = 'b')\n",
    "plt.title(\"Graph showing the variations of CIT Certified Indicator with respect to Reported_Month\")\n",
    "plt.xlabel(\"Reported_Month\")\n",
    "plt.show()"
   ]
  },
  {
   "cell_type": "markdown",
   "metadata": {},
   "source": [
    "##### Plotting the graph of CIT Certified Indicator with respect to the Occurred_Month"
   ]
  },
  {
   "cell_type": "code",
   "execution_count": 35,
   "metadata": {},
   "outputs": [
    {
     "data": {
      "image/png": "[encoded data removed]",
      "text/plain": [
       "<Figure size 1080x288 with 1 Axes>"
      ]
     },
     "metadata": {
      "needs_background": "light"
     },
     "output_type": "display_data"
    }
   ],
   "source": [
    "plt.figure(figsize=(15,4))\n",
    "sns.lineplot(x='Occurred_Month',y='CIT Certified Indicator', data =df, color = 'g')\n",
    "plt.title(\"Graph showing the variations of CIT Certified Indicator with respect to Occurred_Month\")\n",
    "plt.xlabel(\"Occurred_Month\")\n",
    "plt.show()"
   ]
  },
  {
   "cell_type": "markdown",
   "metadata": {},
   "source": [
    "Inferences:\n",
    "\n",
    "Based on comparision with Months and Years on both Occurred Date / Time and Reported Date happen in same timespan"
   ]
  },
  {
   "cell_type": "markdown",
   "metadata": {},
   "source": [
    "#### Plotting the graph of CIT Certified Indicator with  Officer Years of Experience"
   ]
  },
  {
   "cell_type": "code",
   "execution_count": 36,
   "metadata": {},
   "outputs": [
    {
     "data": {
      "text/plain": [
       "<matplotlib.axes._subplots.AxesSubplot at 0x12b2f342708>"
      ]
     },
     "execution_count": 36,
     "metadata": {},
     "output_type": "execute_result"
    },
    {
     "data": {
      "image/png": "[encoded data removed]",
      "text/plain": [
       "<Figure size 720x288 with 1 Axes>"
      ]
     },
     "metadata": {
      "needs_background": "light"
     },
     "output_type": "display_data"
    }
   ],
   "source": [
    "\n",
    "plt.figure(figsize=(10,4))\n",
    "plt.title(\"Graph showing the comparision of CIT Certified Indicator according to the Officer Years of Experience\")\n",
    "plt.xlabel(\"CIT Certified Indicator\")\n",
    "sns.barplot(df['CIT Certified Indicator'],df['Officer Years of Experience'])"
   ]
  },
  {
   "cell_type": "markdown",
   "metadata": {},
   "source": [
    "Inferences:\n",
    "CIT Certified Indicator =1  is high based on Officer Years of Experience"
   ]
  },
  {
   "cell_type": "markdown",
   "metadata": {},
   "source": [
    " ##### Plotting the graph that compares the CIT Certified Indicator with Officer Years of Experience and Officer Gender"
   ]
  },
  {
   "cell_type": "code",
   "execution_count": 37,
   "metadata": {},
   "outputs": [
    {
     "data": {
      "text/plain": [
       "<seaborn.axisgrid.FacetGrid at 0x12b2f381dc8>"
      ]
     },
     "execution_count": 37,
     "metadata": {},
     "output_type": "execute_result"
    },
    {
     "data": {
      "image/png": "[encoded data removed]",
      "text/plain": [
       "<Figure size 756x360 with 3 Axes>"
      ]
     },
     "metadata": {
      "needs_background": "light"
     },
     "output_type": "display_data"
    }
   ],
   "source": [
    "sns.catplot(x='CIT Certified Indicator',y='Officer Years of Experience', col = 'Officer Gender', data=df,\n",
    "                kind='bar', aspect=.7, palette='Set1') "
   ]
  },
  {
   "cell_type": "markdown",
   "metadata": {},
   "source": [
    "Inferences:\n",
    "\n",
    "Based on Properties and Gender Ratio CIT Certified Indicator =1 is high \n",
    "and if we understand Graph  Officer Gender='N'  having -ve Years of Experiance (but years of experiance must positive)"
   ]
  },
  {
   "cell_type": "markdown",
   "metadata": {},
   "source": [
    " ##### Plotting the graph of Officer Gender with Officer Years of Experience"
   ]
  },
  {
   "cell_type": "code",
   "execution_count": 38,
   "metadata": {},
   "outputs": [
    {
     "data": {
      "text/plain": [
       "<matplotlib.axes._subplots.AxesSubplot at 0x12b333d5b48>"
      ]
     },
     "execution_count": 38,
     "metadata": {},
     "output_type": "execute_result"
    },
    {
     "data": {
      "image/png": "[encoded data removed]",
      "text/plain": [
       "<Figure size 720x288 with 1 Axes>"
      ]
     },
     "metadata": {
      "needs_background": "light"
     },
     "output_type": "display_data"
    }
   ],
   "source": [
    "plt.figure(figsize=(10,4))\n",
    "plt.title(\"Graph showing the comparision of Officer Gender according to the Officer Years of Experience\")\n",
    "plt.xlabel(\"Officer Gender\")\n",
    "sns.barplot(df['Officer Gender'],df['Officer Years of Experience'])"
   ]
  },
  {
   "cell_type": "raw",
   "metadata": {},
   "source": [
    "Inferences:\n",
    "\n",
    "Based on Graph Male having highest years of experiance then compare to female"
   ]
  },
  {
   "cell_type": "markdown",
   "metadata": {},
   "source": [
    " ##### Plotting the graph that compares the Sector with Officer Years of Experience "
   ]
  },
  {
   "cell_type": "code",
   "execution_count": 39,
   "metadata": {},
   "outputs": [
    {
     "data": {
      "text/plain": [
       "<matplotlib.axes._subplots.AxesSubplot at 0x12b33556b48>"
      ]
     },
     "execution_count": 39,
     "metadata": {},
     "output_type": "execute_result"
    },
    {
     "data": {
      "image/png": "[encoded data removed]",
      "text/plain": [
       "<Figure size 1080x288 with 1 Axes>"
      ]
     },
     "metadata": {
      "needs_background": "light"
     },
     "output_type": "display_data"
    }
   ],
   "source": [
    "plt.figure(figsize=(15,4))\n",
    "plt.title(\"Graph showing the comparision of Officer Sector according to the Officer Years of Experience\")\n",
    "plt.xlabel(\"Sector\")\n",
    "sns.barplot(df['Sector'],df['Officer Years of Experience'])"
   ]
  },
  {
   "cell_type": "markdown",
   "metadata": {},
   "source": [
    "Inferences:\n",
    "    \n",
    "Based on Graph UNION and LINCLON sector officers having highest years"
   ]
  },
  {
   "cell_type": "markdown",
   "metadata": {},
   "source": [
    " ##### Plotting the graph that compares the Officer Gender with Reported_Month"
   ]
  },
  {
   "cell_type": "code",
   "execution_count": 40,
   "metadata": {},
   "outputs": [
    {
     "data": {
      "text/plain": [
       "<matplotlib.axes._subplots.AxesSubplot at 0x12b33651208>"
      ]
     },
     "execution_count": 40,
     "metadata": {},
     "output_type": "execute_result"
    },
    {
     "data": {
      "image/png": "[encoded data removed]",
      "text/plain": [
       "<Figure size 720x288 with 1 Axes>"
      ]
     },
     "metadata": {
      "needs_background": "light"
     },
     "output_type": "display_data"
    }
   ],
   "source": [
    "plt.figure(figsize=(10,4))\n",
    "plt.title(\"Graph showing the comparision of Officer Gender according to the Reported_Month\")\n",
    "plt.xlabel(\"Officer Gender\")\n",
    "sns.barplot(df['Officer Gender'] ,df['Reported_Month'])"
   ]
  },
  {
   "cell_type": "markdown",
   "metadata": {},
   "source": [
    "Inferences:\n",
    "\n",
    "Officer Gender with indicator N  having Highest Reporting Months then compare to Male and Female "
   ]
  },
  {
   "cell_type": "markdown",
   "metadata": {},
   "source": [
    "##### Plotting the bar garph for Call Type and its individual counts"
   ]
  },
  {
   "cell_type": "code",
   "execution_count": 41,
   "metadata": {},
   "outputs": [
    {
     "data": {
      "text/plain": [
       "<matplotlib.axes._subplots.AxesSubplot at 0x12b336af748>"
      ]
     },
     "execution_count": 41,
     "metadata": {},
     "output_type": "execute_result"
    },
    {
     "data": {
      "image/png": "[encoded data removed]",
      "text/plain": [
       "<Figure size 432x288 with 1 Axes>"
      ]
     },
     "metadata": {
      "needs_background": "light"
     },
     "output_type": "display_data"
    }
   ],
   "source": [
    "df['Call Type'].value_counts().plot(kind='bar', color='r')"
   ]
  },
  {
   "cell_type": "markdown",
   "metadata": {},
   "source": [
    "Inferences:\n",
    "    \n",
    "We can see that here 9 indidual indicators in the indicator 911 has highest 47884 values"
   ]
  },
  {
   "cell_type": "markdown",
   "metadata": {},
   "source": [
    "##### Plotting the bar garph for Disposition and its individual counts"
   ]
  },
  {
   "cell_type": "code",
   "execution_count": 42,
   "metadata": {},
   "outputs": [
    {
     "data": {
      "text/plain": [
       "Text(0, 0.5, 'Count')"
      ]
     },
     "execution_count": 42,
     "metadata": {},
     "output_type": "execute_result"
    },
    {
     "data": {
      "image/png": "[encoded data removed]",
      "text/plain": [
       "<Figure size 432x288 with 1 Axes>"
      ]
     },
     "metadata": {
      "needs_background": "light"
     },
     "output_type": "display_data"
    }
   ],
   "source": [
    "df['Disposition'].value_counts().plot(kind='bar', color='g')\n",
    "plt.title('Bar garph showing Disposition and its category type')\n",
    "plt.xlabel('Disposition Type')\n",
    "plt.ylabel('Count')"
   ]
  },
  {
   "cell_type": "markdown",
   "metadata": {},
   "source": [
    "Inferences:\n",
    "    \n",
    "We can see that here 30 indidual indicators in the indicator Emergent Detention / ITA has highest 21700 values"
   ]
  },
  {
   "cell_type": "raw",
   "metadata": {},
   "source": [
    "# Plotting the bar garph for Officer Race and its individual counts"
   ]
  },
  {
   "cell_type": "code",
   "execution_count": 43,
   "metadata": {},
   "outputs": [
    {
     "data": {
      "text/plain": [
       "Text(0, 0.5, 'Count')"
      ]
     },
     "execution_count": 43,
     "metadata": {},
     "output_type": "execute_result"
    },
    {
     "data": {
      "image/png": "[encoded data removed]",
      "text/plain": [
       "<Figure size 432x288 with 1 Axes>"
      ]
     },
     "metadata": {
      "needs_background": "light"
     },
     "output_type": "display_data"
    }
   ],
   "source": [
    "df['Officer Race'].value_counts().plot(kind='bar')\n",
    "plt.title('Bar garph showing Variations of Officer Race')\n",
    "plt.xlabel('Race')\n",
    "plt.ylabel('Count')"
   ]
  },
  {
   "cell_type": "markdown",
   "metadata": {},
   "source": [
    "Inferences:\n",
    "    \n",
    "We can see that here 9 indidual indicators in the indicator White has highest 48501 values"
   ]
  },
  {
   "cell_type": "markdown",
   "metadata": {},
   "source": [
    "##### Plotting the bar garph for Officer Year of Birth and its individual counts"
   ]
  },
  {
   "cell_type": "code",
   "execution_count": 44,
   "metadata": {},
   "outputs": [
    {
     "data": {
      "text/plain": [
       "Text(0, 0.5, 'Count')"
      ]
     },
     "execution_count": 44,
     "metadata": {},
     "output_type": "execute_result"
    },
    {
     "data": {
      "image/png": "[encoded data removed]",
      "text/plain": [
       "<Figure size 1080x288 with 1 Axes>"
      ]
     },
     "metadata": {
      "needs_background": "light"
     },
     "output_type": "display_data"
    }
   ],
   "source": [
    "plt.figure(figsize=(15,4))\n",
    "df['Officer Year of Birth'].value_counts().plot(kind='bar')\n",
    "plt.title('Bar garph showing variations in Officers Year of Birth')\n",
    "plt.xlabel('Year of Birth')\n",
    "plt.ylabel('Count')"
   ]
  },
  {
   "cell_type": "markdown",
   "metadata": {},
   "source": [
    "Inferences:\n",
    "    \n",
    "We can see that here 53 indidual years  in that  Year 1987  has highest 4577 values\n",
    "Year range Between 1946 to 1987 (~41 years)"
   ]
  },
  {
   "cell_type": "markdown",
   "metadata": {},
   "source": [
    "##### Plotting the bar garph for  Officer Bureau Desc and its individual counts"
   ]
  },
  {
   "cell_type": "code",
   "execution_count": 45,
   "metadata": {},
   "outputs": [
    {
     "data": {
      "text/plain": [
       "Text(0, 0.5, 'Count')"
      ]
     },
     "execution_count": 45,
     "metadata": {},
     "output_type": "execute_result"
    },
    {
     "data": {
      "image/png": "[encoded data removed]",
      "text/plain": [
       "<Figure size 432x288 with 1 Axes>"
      ]
     },
     "metadata": {
      "needs_background": "light"
     },
     "output_type": "display_data"
    }
   ],
   "source": [
    "df['Officer Bureau Desc'].value_counts().plot(kind='bar',color='c')\n",
    "plt.title('Bar garph showing variations in Officer Bureau Desc Type')\n",
    "plt.xlabel('Officer Bureau Desc Type')\n",
    "plt.ylabel('Count')"
   ]
  },
  {
   "cell_type": "markdown",
   "metadata": {},
   "source": [
    "Inferences:\n",
    "    \n",
    "We can see that here 6 indidual indicators in the indicator OPERATIONS BUREAU has highest 57817 values"
   ]
  },
  {
   "cell_type": "markdown",
   "metadata": {},
   "source": [
    "##### Plotting the bar garph for Officer Precinct Desc and its individual counts"
   ]
  },
  {
   "cell_type": "code",
   "execution_count": 46,
   "metadata": {},
   "outputs": [
    {
     "data": {
      "text/plain": [
       "Text(0, 0.5, 'Count')"
      ]
     },
     "execution_count": 46,
     "metadata": {},
     "output_type": "execute_result"
    },
    {
     "data": {
      "image/png": "[encoded data removed]",
      "text/plain": [
       "<Figure size 432x288 with 1 Axes>"
      ]
     },
     "metadata": {
      "needs_background": "light"
     },
     "output_type": "display_data"
    }
   ],
   "source": [
    "df['Officer Precinct Desc'].value_counts().plot(kind='bar',color='b')\n",
    "plt.title('Bar garph showing variations in Officer Precinct Desc Type')\n",
    "plt.xlabel('Officer Precinct Desc Type')\n",
    "plt.ylabel('Count')"
   ]
  },
  {
   "cell_type": "markdown",
   "metadata": {},
   "source": [
    "Inferences:\n",
    "    \n",
    "We can see that here 25 indidual indicators in the indicator WEST PCT has highest 17171 values"
   ]
  },
  {
   "cell_type": "markdown",
   "metadata": {},
   "source": [
    "##### Plotting the bar garph for Sector and its individual counts"
   ]
  },
  {
   "cell_type": "code",
   "execution_count": 47,
   "metadata": {},
   "outputs": [
    {
     "data": {
      "text/plain": [
       "Text(0, 0.5, 'Count')"
      ]
     },
     "execution_count": 47,
     "metadata": {},
     "output_type": "execute_result"
    },
    {
     "data": {
      "image/png": "[encoded data removed]",
      "text/plain": [
       "<Figure size 432x288 with 1 Axes>"
      ]
     },
     "metadata": {
      "needs_background": "light"
     },
     "output_type": "display_data"
    }
   ],
   "source": [
    "df['Sector'].value_counts().plot(kind='bar',color='m')\n",
    "plt.title('Bar garph showing variations in Crisis Sector')\n",
    "plt.xlabel('Crisis Sector')\n",
    "plt.ylabel('Count')"
   ]
  },
  {
   "cell_type": "markdown",
   "metadata": {},
   "source": [
    "Inferences:\n",
    "    \n",
    "We can see that here 18 indidual indicators in the indicator KING has highest   6668 values"
   ]
  },
  {
   "cell_type": "markdown",
   "metadata": {},
   "source": [
    "##### Plotting the bar garph for Beat and its individual counts"
   ]
  },
  {
   "cell_type": "code",
   "execution_count": 48,
   "metadata": {},
   "outputs": [
    {
     "data": {
      "text/plain": [
       "Text(0, 0.5, 'Count')"
      ]
     },
     "execution_count": 48,
     "metadata": {},
     "output_type": "execute_result"
    },
    {
     "data": {
      "image/png": "[encoded data removed]",
      "text/plain": [
       "<Figure size 1080x288 with 1 Axes>"
      ]
     },
     "metadata": {
      "needs_background": "light"
     },
     "output_type": "display_data"
    }
   ],
   "source": [
    "plt.figure(figsize=(15,4))\n",
    "df['Beat'].value_counts().plot(kind='bar', color='y')\n",
    "plt.title('Bar garph showing variations in Officer Beat Type')\n",
    "plt.xlabel('Beat Type')\n",
    "plt.ylabel('Count')"
   ]
  },
  {
   "cell_type": "markdown",
   "metadata": {},
   "source": [
    "Inferences:\n",
    "    \n",
    "We can see that here 54 indidual indicators in the indicator K3  has highest values"
   ]
  },
  {
   "cell_type": "markdown",
   "metadata": {},
   "source": [
    "### Feature Engineering & Feature Selection "
   ]
  },
  {
   "cell_type": "code",
   "execution_count": 49,
   "metadata": {},
   "outputs": [
    {
     "data": {
      "text/plain": [
       "Template ID                       0\n",
       "Reported Date                     0\n",
       "Reported Time                     0\n",
       "Occurred Date / Time              0\n",
       "Call Type                         0\n",
       "Initial Call Type                 0\n",
       "Final Call Type                   0\n",
       "Disposition                       0\n",
       "Use of Force Indicator            0\n",
       "Subject Veteran Indicator         0\n",
       "CIT Officer Requested             0\n",
       "CIT Officer Dispatched            0\n",
       "CIT Officer Arrived               0\n",
       "Officer ID                        0\n",
       "Officer Gender                    0\n",
       "Officer Race                      0\n",
       "Officer Year of Birth             0\n",
       "Officer Years of Experience       0\n",
       "CIT Certified Indicator           0\n",
       "Officer Bureau Desc            5748\n",
       "Officer Precinct Desc          6088\n",
       "Officer Squad Desc             5699\n",
       "Precinct                          0\n",
       "Sector                            0\n",
       "Beat                              0\n",
       "Reprted_Year                      0\n",
       "Reported_Month                    0\n",
       "Occurred_Year                     0\n",
       "Occurred_Month                    0\n",
       "dtype: int64"
      ]
     },
     "execution_count": 49,
     "metadata": {},
     "output_type": "execute_result"
    }
   ],
   "source": [
    "# Identifying Null Values in Dataframe \n",
    "df.isnull().sum()"
   ]
  },
  {
   "cell_type": "code",
   "execution_count": 50,
   "metadata": {},
   "outputs": [
    {
     "data": {
      "text/plain": [
       "Template ID                    69990\n",
       "Reported Date                   2527\n",
       "Reported Time                      1\n",
       "Occurred Date / Time           63985\n",
       "Call Type                          9\n",
       "Initial Call Type                175\n",
       "Final Call Type                  210\n",
       "Disposition                       30\n",
       "Use of Force Indicator             2\n",
       "Subject Veteran Indicator          2\n",
       "CIT Officer Requested              2\n",
       "CIT Officer Dispatched             2\n",
       "CIT Officer Arrived                2\n",
       "Officer ID                      1259\n",
       "Officer Gender                     3\n",
       "Officer Race                       9\n",
       "Officer Year of Birth             53\n",
       "Officer Years of Experience       82\n",
       "CIT Certified Indicator            2\n",
       "Officer Bureau Desc                6\n",
       "Officer Precinct Desc             25\n",
       "Officer Squad Desc               182\n",
       "Precinct                           8\n",
       "Sector                            18\n",
       "Beat                              54\n",
       "Reprted_Year                       9\n",
       "Reported_Month                    12\n",
       "Occurred_Year                      9\n",
       "Occurred_Month                    12\n",
       "dtype: int64"
      ]
     },
     "execution_count": 50,
     "metadata": {},
     "output_type": "execute_result"
    }
   ],
   "source": [
    "# Unique Values in Dataframe \n",
    "df.nunique()"
   ]
  },
  {
   "cell_type": "markdown",
   "metadata": {},
   "source": [
    "Inferences: \n",
    "\n",
    "The columns Officer Bureau Desc, Officer Precinct Desc, Officer Squad Desc has 5742, 6085, 5696 null values respectively.\n",
    "and Most of the features are Categorical\n",
    "    "
   ]
  },
  {
   "cell_type": "markdown",
   "metadata": {},
   "source": [
    "\n",
    "#### Convering Categorical values to  Numerical values"
   ]
  },
  {
   "cell_type": "code",
   "execution_count": 51,
   "metadata": {},
   "outputs": [],
   "source": [
    "#Replacing Categorical values with Numerical based on Frequency \n",
    "df['Use of Force Indicator']=df['Use of Force Indicator'].map({'N':0,'Y':1})\n",
    "df['Subject Veteran Indicator']=df['Subject Veteran Indicator'].map({'N':0,'Y':1})\n",
    "df['CIT Officer Requested']=df['CIT Officer Requested'].map({'N':0,'Y':1})\n",
    "df['CIT Officer Dispatched']=df['CIT Officer Dispatched'].map({'N':0,'Y':1})\n",
    "df['CIT Officer Arrived']=df['CIT Officer Arrived'].map({'N':0,'Y':1})"
   ]
  },
  {
   "cell_type": "code",
   "execution_count": 52,
   "metadata": {},
   "outputs": [
    {
     "data": {
      "text/plain": [
       " 1     10761\n",
       " 2      8644\n",
       " 3      7194\n",
       " 4      5038\n",
       " 5      4425\n",
       "       ...  \n",
       " 71        2\n",
       "-5         2\n",
       "-3         1\n",
       " 75        1\n",
       "-48        1\n",
       "Name: Officer Years of Experience, Length: 82, dtype: int64"
      ]
     },
     "execution_count": 52,
     "metadata": {},
     "output_type": "execute_result"
    }
   ],
   "source": [
    "df['Officer Years of Experience'].value_counts()"
   ]
  },
  {
   "cell_type": "code",
   "execution_count": 53,
   "metadata": {},
   "outputs": [
    {
     "data": {
      "text/plain": [
       "1     10761\n",
       "2      8644\n",
       "3      7194\n",
       "4      5038\n",
       "5      4425\n",
       "      ...  \n",
       "58        4\n",
       "73        4\n",
       "68        2\n",
       "71        2\n",
       "75        1\n",
       "Name: Officer Years of Experience, Length: 76, dtype: int64"
      ]
     },
     "execution_count": 53,
     "metadata": {},
     "output_type": "execute_result"
    }
   ],
   "source": [
    "df = df[df['Officer Years of Experience'] >=0]\n",
    "df['Officer Years of Experience'].value_counts()"
   ]
  },
  {
   "cell_type": "markdown",
   "metadata": {},
   "source": [
    "Inferences:\n",
    "\n",
    "Years of Experiance should be positive. SO, removing all the -ve values. "
   ]
  },
  {
   "cell_type": "code",
   "execution_count": 54,
   "metadata": {},
   "outputs": [],
   "source": [
    "df['Officer Gender']=df['Officer Gender'].map({'F':0,'M':1})"
   ]
  },
  {
   "cell_type": "markdown",
   "metadata": {},
   "source": [
    "Inferences: \n",
    "\n",
    "Based on Count/Frequency replaced all Categorical values with Numberical values"
   ]
  },
  {
   "cell_type": "code",
   "execution_count": 55,
   "metadata": {},
   "outputs": [
    {
     "data": {
      "text/html": [
       "<div>\n",
       "<style scoped>\n",
       "    .dataframe tbody tr th:only-of-type {\n",
       "        vertical-align: middle;\n",
       "    }\n",
       "\n",
       "    .dataframe tbody tr th {\n",
       "        vertical-align: top;\n",
       "    }\n",
       "\n",
       "    .dataframe thead th {\n",
       "        text-align: right;\n",
       "    }\n",
       "</style>\n",
       "<table border=\"1\" class=\"dataframe\">\n",
       "  <thead>\n",
       "    <tr style=\"text-align: right;\">\n",
       "      <th></th>\n",
       "      <th>Template ID</th>\n",
       "      <th>Reported Date</th>\n",
       "      <th>Reported Time</th>\n",
       "      <th>Occurred Date / Time</th>\n",
       "      <th>Call Type</th>\n",
       "      <th>Initial Call Type</th>\n",
       "      <th>Final Call Type</th>\n",
       "      <th>Disposition</th>\n",
       "      <th>Use of Force Indicator</th>\n",
       "      <th>Subject Veteran Indicator</th>\n",
       "      <th>...</th>\n",
       "      <th>Officer Bureau Desc</th>\n",
       "      <th>Officer Precinct Desc</th>\n",
       "      <th>Officer Squad Desc</th>\n",
       "      <th>Precinct</th>\n",
       "      <th>Sector</th>\n",
       "      <th>Beat</th>\n",
       "      <th>Reprted_Year</th>\n",
       "      <th>Reported_Month</th>\n",
       "      <th>Occurred_Year</th>\n",
       "      <th>Occurred_Month</th>\n",
       "    </tr>\n",
       "  </thead>\n",
       "  <tbody>\n",
       "    <tr>\n",
       "      <th>6</th>\n",
       "      <td>43946</td>\n",
       "      <td>2015-05-15T00:00:00</td>\n",
       "      <td>00:00:00</td>\n",
       "      <td>05/15/2015 06:47:32 PM</td>\n",
       "      <td>911</td>\n",
       "      <td>SUICIDE - IP/JO SUICIDAL PERSON AND ATTEMPTS</td>\n",
       "      <td>--CRISIS COMPLAINT - GENERAL</td>\n",
       "      <td>Emergent Detention / ITA</td>\n",
       "      <td>0</td>\n",
       "      <td>0</td>\n",
       "      <td>...</td>\n",
       "      <td>OPERATIONS BUREAU</td>\n",
       "      <td>NORTH PCT</td>\n",
       "      <td>NORTH PCT 2ND W - BOY</td>\n",
       "      <td>North</td>\n",
       "      <td>LINCOLN</td>\n",
       "      <td>L2</td>\n",
       "      <td>2015</td>\n",
       "      <td>5</td>\n",
       "      <td>2015</td>\n",
       "      <td>5</td>\n",
       "    </tr>\n",
       "    <tr>\n",
       "      <th>7</th>\n",
       "      <td>43469</td>\n",
       "      <td>2015-05-15T00:00:00</td>\n",
       "      <td>00:00:00</td>\n",
       "      <td>05/15/2015 11:16:25 AM</td>\n",
       "      <td>911</td>\n",
       "      <td>PERSON IN BEHAVIORAL/EMOTIONAL CRISIS</td>\n",
       "      <td>--CRISIS COMPLAINT - GENERAL</td>\n",
       "      <td>Mobile Crisis Team</td>\n",
       "      <td>0</td>\n",
       "      <td>0</td>\n",
       "      <td>...</td>\n",
       "      <td>OPERATIONS BUREAU</td>\n",
       "      <td>EAST PCT</td>\n",
       "      <td>EAST PCT 2ND W - EDWARD</td>\n",
       "      <td>East</td>\n",
       "      <td>EDWARD</td>\n",
       "      <td>E1</td>\n",
       "      <td>2015</td>\n",
       "      <td>5</td>\n",
       "      <td>2015</td>\n",
       "      <td>5</td>\n",
       "    </tr>\n",
       "    <tr>\n",
       "      <th>8</th>\n",
       "      <td>43662</td>\n",
       "      <td>2015-05-15T00:00:00</td>\n",
       "      <td>00:00:00</td>\n",
       "      <td>05/15/2015 09:33:28 PM</td>\n",
       "      <td>ONVIEW</td>\n",
       "      <td>HAZ - POTENTIAL THRT TO PHYS SAFETY (NO HAZMAT)</td>\n",
       "      <td>--CRISIS COMPLAINT - GENERAL</td>\n",
       "      <td>No Action Possible / Necessary</td>\n",
       "      <td>0</td>\n",
       "      <td>0</td>\n",
       "      <td>...</td>\n",
       "      <td>OPERATIONS BUREAU</td>\n",
       "      <td>WEST PCT</td>\n",
       "      <td>WEST PCT 3RD W - KING</td>\n",
       "      <td>West</td>\n",
       "      <td>KING</td>\n",
       "      <td>K1</td>\n",
       "      <td>2015</td>\n",
       "      <td>5</td>\n",
       "      <td>2015</td>\n",
       "      <td>5</td>\n",
       "    </tr>\n",
       "    <tr>\n",
       "      <th>9</th>\n",
       "      <td>57315</td>\n",
       "      <td>2015-05-15T00:00:00</td>\n",
       "      <td>00:00:00</td>\n",
       "      <td>05/15/2015 06:16:56 PM</td>\n",
       "      <td>911</td>\n",
       "      <td>HAZ - POTENTIAL THRT TO PHYS SAFETY (NO HAZMAT)</td>\n",
       "      <td>--DISTURBANCE - OTHER</td>\n",
       "      <td>Shelter Transport</td>\n",
       "      <td>0</td>\n",
       "      <td>0</td>\n",
       "      <td>...</td>\n",
       "      <td>OPERATIONS BUREAU</td>\n",
       "      <td>EAST PCT</td>\n",
       "      <td>EAST PCT 3RD W - E/G RELIEF</td>\n",
       "      <td>-</td>\n",
       "      <td>-</td>\n",
       "      <td>-</td>\n",
       "      <td>2015</td>\n",
       "      <td>5</td>\n",
       "      <td>2015</td>\n",
       "      <td>5</td>\n",
       "    </tr>\n",
       "    <tr>\n",
       "      <th>10</th>\n",
       "      <td>43479</td>\n",
       "      <td>2015-05-15T00:00:00</td>\n",
       "      <td>00:00:00</td>\n",
       "      <td>05/15/2015 06:10:23 PM</td>\n",
       "      <td>911</td>\n",
       "      <td>DISTURBANCE, MISCELLANEOUS/OTHER</td>\n",
       "      <td>--CRISIS COMPLAINT - GENERAL</td>\n",
       "      <td>Emergent Detention / ITA</td>\n",
       "      <td>0</td>\n",
       "      <td>0</td>\n",
       "      <td>...</td>\n",
       "      <td>OPERATIONS BUREAU</td>\n",
       "      <td>WEST PCT</td>\n",
       "      <td>WEST PCT 2ND W - K/Q RELIEF</td>\n",
       "      <td>West</td>\n",
       "      <td>KING</td>\n",
       "      <td>K3</td>\n",
       "      <td>2015</td>\n",
       "      <td>5</td>\n",
       "      <td>2015</td>\n",
       "      <td>5</td>\n",
       "    </tr>\n",
       "  </tbody>\n",
       "</table>\n",
       "<p>5 rows × 29 columns</p>\n",
       "</div>"
      ],
      "text/plain": [
       "    Template ID        Reported Date Reported Time    Occurred Date / Time  \\\n",
       "6         43946  2015-05-15T00:00:00      00:00:00  05/15/2015 06:47:32 PM   \n",
       "7         43469  2015-05-15T00:00:00      00:00:00  05/15/2015 11:16:25 AM   \n",
       "8         43662  2015-05-15T00:00:00      00:00:00  05/15/2015 09:33:28 PM   \n",
       "9         57315  2015-05-15T00:00:00      00:00:00  05/15/2015 06:16:56 PM   \n",
       "10        43479  2015-05-15T00:00:00      00:00:00  05/15/2015 06:10:23 PM   \n",
       "\n",
       "   Call Type                                Initial Call Type  \\\n",
       "6        911     SUICIDE - IP/JO SUICIDAL PERSON AND ATTEMPTS   \n",
       "7        911            PERSON IN BEHAVIORAL/EMOTIONAL CRISIS   \n",
       "8     ONVIEW  HAZ - POTENTIAL THRT TO PHYS SAFETY (NO HAZMAT)   \n",
       "9        911  HAZ - POTENTIAL THRT TO PHYS SAFETY (NO HAZMAT)   \n",
       "10       911                 DISTURBANCE, MISCELLANEOUS/OTHER   \n",
       "\n",
       "                 Final Call Type                     Disposition  \\\n",
       "6   --CRISIS COMPLAINT - GENERAL        Emergent Detention / ITA   \n",
       "7   --CRISIS COMPLAINT - GENERAL              Mobile Crisis Team   \n",
       "8   --CRISIS COMPLAINT - GENERAL  No Action Possible / Necessary   \n",
       "9          --DISTURBANCE - OTHER               Shelter Transport   \n",
       "10  --CRISIS COMPLAINT - GENERAL        Emergent Detention / ITA   \n",
       "\n",
       "    Use of Force Indicator  Subject Veteran Indicator  ...  \\\n",
       "6                        0                          0  ...   \n",
       "7                        0                          0  ...   \n",
       "8                        0                          0  ...   \n",
       "9                        0                          0  ...   \n",
       "10                       0                          0  ...   \n",
       "\n",
       "    Officer Bureau Desc  Officer Precinct Desc           Officer Squad Desc  \\\n",
       "6     OPERATIONS BUREAU              NORTH PCT        NORTH PCT 2ND W - BOY   \n",
       "7     OPERATIONS BUREAU               EAST PCT      EAST PCT 2ND W - EDWARD   \n",
       "8     OPERATIONS BUREAU               WEST PCT        WEST PCT 3RD W - KING   \n",
       "9     OPERATIONS BUREAU               EAST PCT  EAST PCT 3RD W - E/G RELIEF   \n",
       "10    OPERATIONS BUREAU               WEST PCT  WEST PCT 2ND W - K/Q RELIEF   \n",
       "\n",
       "   Precinct   Sector Beat  Reprted_Year  Reported_Month  Occurred_Year  \\\n",
       "6     North  LINCOLN   L2          2015               5           2015   \n",
       "7      East   EDWARD   E1          2015               5           2015   \n",
       "8      West     KING   K1          2015               5           2015   \n",
       "9         -        -    -          2015               5           2015   \n",
       "10     West     KING   K3          2015               5           2015   \n",
       "\n",
       "   Occurred_Month  \n",
       "6               5  \n",
       "7               5  \n",
       "8               5  \n",
       "9               5  \n",
       "10              5  \n",
       "\n",
       "[5 rows x 29 columns]"
      ]
     },
     "execution_count": 55,
     "metadata": {},
     "output_type": "execute_result"
    }
   ],
   "source": [
    "df.head()"
   ]
  },
  {
   "cell_type": "markdown",
   "metadata": {},
   "source": [
    "#### Convering Categorical values to  Numerical values using mean replacement method"
   ]
  },
  {
   "cell_type": "markdown",
   "metadata": {},
   "source": [
    "#####   Plotting the bar garph for Call Type and its individual counts before Conversion "
   ]
  },
  {
   "cell_type": "code",
   "execution_count": 56,
   "metadata": {},
   "outputs": [
    {
     "data": {
      "text/plain": [
       "911                              47335\n",
       "TELEPHONE OTHER, NOT 911         12249\n",
       "-                                 5292\n",
       "ONVIEW                            4839\n",
       "TEXT MESSAGE                        86\n",
       "ALARM CALL (NOT POLICE ALARM)       78\n",
       "PROACTIVE (OFFICER INITIATED)        4\n",
       "IN PERSON COMPLAINT                  2\n",
       "POLICE (VARDA) ALARM                 1\n",
       "Name: Call Type, dtype: int64"
      ]
     },
     "execution_count": 56,
     "metadata": {},
     "output_type": "execute_result"
    },
    {
     "data": {
      "image/png": "[encoded data removed]",
      "text/plain": [
       "<Figure size 432x288 with 1 Axes>"
      ]
     },
     "metadata": {
      "needs_background": "light"
     },
     "output_type": "display_data"
    }
   ],
   "source": [
    "df['Call Type'].value_counts().plot(kind='barh')\n",
    "\n",
    "plt.ylabel('Call Type Classes')\n",
    "plt.xlabel('Count')\n",
    "df['Call Type'].value_counts()"
   ]
  },
  {
   "cell_type": "markdown",
   "metadata": {},
   "source": [
    "##### Plotting the bar garph for Call Type and its individual counts After Numerical Conversion "
   ]
  },
  {
   "cell_type": "code",
   "execution_count": 57,
   "metadata": {},
   "outputs": [
    {
     "data": {
      "text/plain": [
       "0.677317    47335\n",
       "0.175271    12249\n",
       "0.075723     5292\n",
       "0.069241     4839\n",
       "0.001231       86\n",
       "0.001116       78\n",
       "0.000057        4\n",
       "0.000029        2\n",
       "0.000014        1\n",
       "Name: Call Type, dtype: int64"
      ]
     },
     "execution_count": 57,
     "metadata": {},
     "output_type": "execute_result"
    },
    {
     "data": {
      "image/png": "[encoded data removed]",
      "text/plain": [
       "<Figure size 432x288 with 1 Axes>"
      ]
     },
     "metadata": {
      "needs_background": "light"
     },
     "output_type": "display_data"
    }
   ],
   "source": [
    "Call_Type=df['Call Type'].value_counts()/len(df['Call Type'])\n",
    "df['Call Type']= df['Call Type'].map(Call_Type)\n",
    "\n",
    "df['Call Type'].value_counts().plot(kind='barh')\n",
    "plt.ylabel('Call Type Classes')\n",
    "plt.xlabel('Count')\n",
    "df['Call Type'].value_counts()"
   ]
  },
  {
   "cell_type": "markdown",
   "metadata": {},
   "source": [
    "Inferences:\n",
    "    \n",
    "    As we have lot of categorical values in this column, I've converted to numercial values."
   ]
  },
  {
   "cell_type": "markdown",
   "metadata": {},
   "source": [
    "##### Converting Initial Call Type feature "
   ]
  },
  {
   "cell_type": "code",
   "execution_count": 58,
   "metadata": {},
   "outputs": [
    {
     "data": {
      "text/plain": [
       "6     0.175844\n",
       "7     0.178691\n",
       "8     0.016226\n",
       "9     0.016226\n",
       "10    0.087128\n",
       "Name: Initial Call Type, dtype: float64"
      ]
     },
     "execution_count": 58,
     "metadata": {},
     "output_type": "execute_result"
    }
   ],
   "source": [
    "Initial_Call_Type=df['Initial Call Type'].value_counts()/len(df['Initial Call Type'])\n",
    "df['Initial Call Type']= df['Initial Call Type'].map(Initial_Call_Type)\n",
    "df['Initial Call Type'].head()"
   ]
  },
  {
   "cell_type": "markdown",
   "metadata": {},
   "source": [
    "##### Converting Final Call Type feature "
   ]
  },
  {
   "cell_type": "code",
   "execution_count": 59,
   "metadata": {},
   "outputs": [
    {
     "data": {
      "text/plain": [
       "6     0.700369\n",
       "7     0.700369\n",
       "8     0.700369\n",
       "9     0.022236\n",
       "10    0.700369\n",
       "Name: Final Call Type, dtype: float64"
      ]
     },
     "execution_count": 59,
     "metadata": {},
     "output_type": "execute_result"
    }
   ],
   "source": [
    "Final_Call_Type=df['Final Call Type'].value_counts()/len(df['Final Call Type'])\n",
    "df['Final Call Type']= df['Final Call Type'].map(Final_Call_Type)\n",
    "df['Final Call Type'].head()"
   ]
  },
  {
   "cell_type": "markdown",
   "metadata": {},
   "source": [
    "##### Converting Disposition feature "
   ]
  },
  {
   "cell_type": "code",
   "execution_count": 60,
   "metadata": {},
   "outputs": [
    {
     "data": {
      "text/plain": [
       "6     0.306599\n",
       "7     0.040194\n",
       "8     0.200698\n",
       "9     0.002247\n",
       "10    0.306599\n",
       "Name: Disposition, dtype: float64"
      ]
     },
     "execution_count": 60,
     "metadata": {},
     "output_type": "execute_result"
    }
   ],
   "source": [
    "Disposition=df['Disposition'].value_counts()/len(df['Disposition'])\n",
    "\n",
    "df['Disposition']=df['Disposition'].map(Disposition)\n",
    "\n",
    "df['Disposition'].head()"
   ]
  },
  {
   "cell_type": "markdown",
   "metadata": {},
   "source": [
    "##### Converting Officer Race feature "
   ]
  },
  {
   "cell_type": "code",
   "execution_count": 61,
   "metadata": {},
   "outputs": [
    {
     "data": {
      "text/plain": [
       "6     0.688478\n",
       "7     0.688478\n",
       "8     0.688478\n",
       "9     0.688478\n",
       "10    0.688478\n",
       "Name: Officer Race, dtype: float64"
      ]
     },
     "execution_count": 61,
     "metadata": {},
     "output_type": "execute_result"
    }
   ],
   "source": [
    "Officer_Race=df['Officer Race'].value_counts()/len(df['Officer Race'])\n",
    "df['Officer Race']=df['Officer Race'].map(Officer_Race)\n",
    "\n",
    "df['Officer Race'].head()"
   ]
  },
  {
   "cell_type": "markdown",
   "metadata": {},
   "source": [
    "##### Converting Precinct feature "
   ]
  },
  {
   "cell_type": "code",
   "execution_count": 62,
   "metadata": {},
   "outputs": [
    {
     "data": {
      "text/plain": [
       "6     0.259036\n",
       "7     0.193630\n",
       "8     0.271113\n",
       "9     0.081747\n",
       "10    0.271113\n",
       "Name: Precinct, dtype: float64"
      ]
     },
     "execution_count": 62,
     "metadata": {},
     "output_type": "execute_result"
    }
   ],
   "source": [
    "Precinct=df['Precinct'].value_counts()/len(df['Precinct'])\n",
    "df['Precinct']=df['Precinct'].map(Precinct)\n",
    "\n",
    "df['Precinct'].head()"
   ]
  },
  {
   "cell_type": "markdown",
   "metadata": {},
   "source": [
    "##### Converting Sector feature "
   ]
  },
  {
   "cell_type": "code",
   "execution_count": 63,
   "metadata": {},
   "outputs": [
    {
     "data": {
      "text/plain": [
       "6     0.052400\n",
       "7     0.089117\n",
       "8     0.094783\n",
       "9     0.082062\n",
       "10    0.094783\n",
       "Name: Sector, dtype: float64"
      ]
     },
     "execution_count": 63,
     "metadata": {},
     "output_type": "execute_result"
    }
   ],
   "source": [
    "Sector= df['Sector'].value_counts()/len(df['Sector'])\n",
    "df['Sector']=df['Sector'].map(Sector)\n",
    "\n",
    "df['Sector'].head()"
   ]
  },
  {
   "cell_type": "markdown",
   "metadata": {},
   "source": [
    "##### Converting Beat feature "
   ]
  },
  {
   "cell_type": "code",
   "execution_count": 64,
   "metadata": {},
   "outputs": [
    {
     "data": {
      "text/plain": [
       "6     0.015325\n",
       "7     0.032896\n",
       "8     0.027402\n",
       "9     0.081647\n",
       "10    0.035028\n",
       "Name: Beat, dtype: float64"
      ]
     },
     "execution_count": 64,
     "metadata": {},
     "output_type": "execute_result"
    }
   ],
   "source": [
    "Beat= df['Beat'].value_counts()/len(df['Beat'])\n",
    "\n",
    "df['Beat']=df['Beat'].map(Beat)\n",
    "\n",
    "df['Beat'].head()"
   ]
  },
  {
   "cell_type": "markdown",
   "metadata": {},
   "source": [
    "##### Imputing missing values in Officer Precinct Desc feature and  Converting to Numerical"
   ]
  },
  {
   "cell_type": "code",
   "execution_count": 65,
   "metadata": {},
   "outputs": [
    {
     "data": {
      "text/plain": [
       "6     0.231033\n",
       "7     0.172281\n",
       "8     0.243897\n",
       "9     0.172281\n",
       "10    0.243897\n",
       "Name: Officer Precinct Desc, dtype: float64"
      ]
     },
     "execution_count": 65,
     "metadata": {},
     "output_type": "execute_result"
    }
   ],
   "source": [
    "df['Officer Precinct Desc']=df['Officer Precinct Desc'].fillna(0)\n",
    "Officer_Precinct_Desc= df['Officer Precinct Desc'].value_counts()/len(df['Officer Precinct Desc'])\n",
    "df['Officer Precinct Desc']=df['Officer Precinct Desc'].map(Officer_Precinct_Desc)\n",
    "df['Officer Precinct Desc'].head()"
   ]
  },
  {
   "cell_type": "markdown",
   "metadata": {},
   "source": [
    "##### Imputing missing values in Officer Squad Desc feature and  Converting to Numerical"
   ]
  },
  {
   "cell_type": "code",
   "execution_count": 66,
   "metadata": {},
   "outputs": [
    {
     "data": {
      "text/plain": [
       "6     0.012120\n",
       "7     0.015039\n",
       "8     0.017343\n",
       "9     0.014939\n",
       "10    0.016055\n",
       "Name: Officer Squad Desc, dtype: float64"
      ]
     },
     "execution_count": 66,
     "metadata": {},
     "output_type": "execute_result"
    }
   ],
   "source": [
    "df['Officer Squad Desc']=df['Officer Squad Desc'].fillna(0)\n",
    "Officer_Squad_Desc= df['Officer Squad Desc'].value_counts()/len(df['Officer Squad Desc'])\n",
    "df['Officer Squad Desc']=df['Officer Squad Desc'].map(Officer_Squad_Desc)\n",
    "df['Officer Squad Desc'].head()"
   ]
  },
  {
   "cell_type": "markdown",
   "metadata": {},
   "source": [
    "##### Imputing missing values in Officer Bureau Desc feature and Converting to Numerical"
   ]
  },
  {
   "cell_type": "code",
   "execution_count": 67,
   "metadata": {},
   "outputs": [
    {
     "data": {
      "text/plain": [
       "6     0.819435\n",
       "7     0.819435\n",
       "8     0.819435\n",
       "9     0.819435\n",
       "10    0.819435\n",
       "Name: Officer Bureau Desc, dtype: float64"
      ]
     },
     "execution_count": 67,
     "metadata": {},
     "output_type": "execute_result"
    }
   ],
   "source": [
    "df['Officer Bureau Desc']=df['Officer Bureau Desc'].fillna(0)\n",
    "Officer_Bureau_Desc= df['Officer Bureau Desc'].value_counts()/len(df['Officer Squad Desc'])\n",
    "df['Officer Bureau Desc']=df['Officer Bureau Desc'].map(Officer_Bureau_Desc)\n",
    "df['Officer Bureau Desc'].head()"
   ]
  },
  {
   "cell_type": "code",
   "execution_count": 68,
   "metadata": {},
   "outputs": [
    {
     "data": {
      "text/plain": [
       "Template ID                    0\n",
       "Reported Date                  0\n",
       "Reported Time                  0\n",
       "Occurred Date / Time           0\n",
       "Call Type                      0\n",
       "Initial Call Type              0\n",
       "Final Call Type                0\n",
       "Disposition                    0\n",
       "Use of Force Indicator         0\n",
       "Subject Veteran Indicator      0\n",
       "CIT Officer Requested          0\n",
       "CIT Officer Dispatched         0\n",
       "CIT Officer Arrived            0\n",
       "Officer ID                     0\n",
       "Officer Gender                 0\n",
       "Officer Race                   0\n",
       "Officer Year of Birth          0\n",
       "Officer Years of Experience    0\n",
       "CIT Certified Indicator        0\n",
       "Officer Bureau Desc            0\n",
       "Officer Precinct Desc          0\n",
       "Officer Squad Desc             0\n",
       "Precinct                       0\n",
       "Sector                         0\n",
       "Beat                           0\n",
       "Reprted_Year                   0\n",
       "Reported_Month                 0\n",
       "Occurred_Year                  0\n",
       "Occurred_Month                 0\n",
       "dtype: int64"
      ]
     },
     "execution_count": 68,
     "metadata": {},
     "output_type": "execute_result"
    }
   ],
   "source": [
    "#Finally No Missing Values in DataFrame\n",
    "df.isna().sum()"
   ]
  },
  {
   "cell_type": "markdown",
   "metadata": {},
   "source": [
    "Inferences:\n",
    "\n",
    "Here we have lot of Categorical Variables in Dataset. Here, I've used scaling method instead of One-Hot encoding and get_dummies.\n",
    "\n",
    "To avoid Curse of Dimensionality as  One-Hot encoding and get_dummies methods will create sparse matrix with more features, thus it may affect model Performace\n"
   ]
  },
  {
   "cell_type": "code",
   "execution_count": 69,
   "metadata": {},
   "outputs": [],
   "source": [
    "#Removing unwanted Fields information \n",
    "df.drop(['Template ID','Officer ID','Occurred Date / Time','Occurred Date / Time','Reported Date','Reported Time','Reprted_Year','Reported_Month','Occurred_Year','Occurred_Month'], axis=1, inplace=True)"
   ]
  },
  {
   "cell_type": "code",
   "execution_count": 70,
   "metadata": {},
   "outputs": [
    {
     "data": {
      "text/html": [
       "<div>\n",
       "<style scoped>\n",
       "    .dataframe tbody tr th:only-of-type {\n",
       "        vertical-align: middle;\n",
       "    }\n",
       "\n",
       "    .dataframe tbody tr th {\n",
       "        vertical-align: top;\n",
       "    }\n",
       "\n",
       "    .dataframe thead th {\n",
       "        text-align: right;\n",
       "    }\n",
       "</style>\n",
       "<table border=\"1\" class=\"dataframe\">\n",
       "  <thead>\n",
       "    <tr style=\"text-align: right;\">\n",
       "      <th></th>\n",
       "      <th>Call Type</th>\n",
       "      <th>Initial Call Type</th>\n",
       "      <th>Final Call Type</th>\n",
       "      <th>Disposition</th>\n",
       "      <th>Use of Force Indicator</th>\n",
       "      <th>Subject Veteran Indicator</th>\n",
       "      <th>CIT Officer Requested</th>\n",
       "      <th>CIT Officer Dispatched</th>\n",
       "      <th>CIT Officer Arrived</th>\n",
       "      <th>Officer Gender</th>\n",
       "      <th>Officer Race</th>\n",
       "      <th>Officer Year of Birth</th>\n",
       "      <th>Officer Years of Experience</th>\n",
       "      <th>CIT Certified Indicator</th>\n",
       "      <th>Officer Bureau Desc</th>\n",
       "      <th>Officer Precinct Desc</th>\n",
       "      <th>Officer Squad Desc</th>\n",
       "      <th>Precinct</th>\n",
       "      <th>Sector</th>\n",
       "      <th>Beat</th>\n",
       "    </tr>\n",
       "  </thead>\n",
       "  <tbody>\n",
       "    <tr>\n",
       "      <th>6</th>\n",
       "      <td>0.677317</td>\n",
       "      <td>0.175844</td>\n",
       "      <td>0.700369</td>\n",
       "      <td>0.306599</td>\n",
       "      <td>0</td>\n",
       "      <td>0</td>\n",
       "      <td>1</td>\n",
       "      <td>1</td>\n",
       "      <td>1</td>\n",
       "      <td>1</td>\n",
       "      <td>0.688478</td>\n",
       "      <td>1968</td>\n",
       "      <td>39</td>\n",
       "      <td>0</td>\n",
       "      <td>0.819435</td>\n",
       "      <td>0.231033</td>\n",
       "      <td>0.012120</td>\n",
       "      <td>0.259036</td>\n",
       "      <td>0.052400</td>\n",
       "      <td>0.015325</td>\n",
       "    </tr>\n",
       "    <tr>\n",
       "      <th>7</th>\n",
       "      <td>0.677317</td>\n",
       "      <td>0.178691</td>\n",
       "      <td>0.700369</td>\n",
       "      <td>0.040194</td>\n",
       "      <td>0</td>\n",
       "      <td>0</td>\n",
       "      <td>1</td>\n",
       "      <td>1</td>\n",
       "      <td>0</td>\n",
       "      <td>0</td>\n",
       "      <td>0.688478</td>\n",
       "      <td>1969</td>\n",
       "      <td>7</td>\n",
       "      <td>0</td>\n",
       "      <td>0.819435</td>\n",
       "      <td>0.172281</td>\n",
       "      <td>0.015039</td>\n",
       "      <td>0.193630</td>\n",
       "      <td>0.089117</td>\n",
       "      <td>0.032896</td>\n",
       "    </tr>\n",
       "    <tr>\n",
       "      <th>8</th>\n",
       "      <td>0.069241</td>\n",
       "      <td>0.016226</td>\n",
       "      <td>0.700369</td>\n",
       "      <td>0.200698</td>\n",
       "      <td>0</td>\n",
       "      <td>0</td>\n",
       "      <td>0</td>\n",
       "      <td>0</td>\n",
       "      <td>1</td>\n",
       "      <td>1</td>\n",
       "      <td>0.688478</td>\n",
       "      <td>1984</td>\n",
       "      <td>8</td>\n",
       "      <td>0</td>\n",
       "      <td>0.819435</td>\n",
       "      <td>0.243897</td>\n",
       "      <td>0.017343</td>\n",
       "      <td>0.271113</td>\n",
       "      <td>0.094783</td>\n",
       "      <td>0.027402</td>\n",
       "    </tr>\n",
       "    <tr>\n",
       "      <th>9</th>\n",
       "      <td>0.677317</td>\n",
       "      <td>0.016226</td>\n",
       "      <td>0.022236</td>\n",
       "      <td>0.002247</td>\n",
       "      <td>0</td>\n",
       "      <td>0</td>\n",
       "      <td>0</td>\n",
       "      <td>0</td>\n",
       "      <td>1</td>\n",
       "      <td>0</td>\n",
       "      <td>0.688478</td>\n",
       "      <td>1970</td>\n",
       "      <td>2</td>\n",
       "      <td>0</td>\n",
       "      <td>0.819435</td>\n",
       "      <td>0.172281</td>\n",
       "      <td>0.014939</td>\n",
       "      <td>0.081747</td>\n",
       "      <td>0.082062</td>\n",
       "      <td>0.081647</td>\n",
       "    </tr>\n",
       "    <tr>\n",
       "      <th>10</th>\n",
       "      <td>0.677317</td>\n",
       "      <td>0.087128</td>\n",
       "      <td>0.700369</td>\n",
       "      <td>0.306599</td>\n",
       "      <td>0</td>\n",
       "      <td>0</td>\n",
       "      <td>0</td>\n",
       "      <td>0</td>\n",
       "      <td>1</td>\n",
       "      <td>1</td>\n",
       "      <td>0.688478</td>\n",
       "      <td>1981</td>\n",
       "      <td>6</td>\n",
       "      <td>0</td>\n",
       "      <td>0.819435</td>\n",
       "      <td>0.243897</td>\n",
       "      <td>0.016055</td>\n",
       "      <td>0.271113</td>\n",
       "      <td>0.094783</td>\n",
       "      <td>0.035028</td>\n",
       "    </tr>\n",
       "  </tbody>\n",
       "</table>\n",
       "</div>"
      ],
      "text/plain": [
       "    Call Type  Initial Call Type  Final Call Type  Disposition  \\\n",
       "6    0.677317           0.175844         0.700369     0.306599   \n",
       "7    0.677317           0.178691         0.700369     0.040194   \n",
       "8    0.069241           0.016226         0.700369     0.200698   \n",
       "9    0.677317           0.016226         0.022236     0.002247   \n",
       "10   0.677317           0.087128         0.700369     0.306599   \n",
       "\n",
       "    Use of Force Indicator  Subject Veteran Indicator  CIT Officer Requested  \\\n",
       "6                        0                          0                      1   \n",
       "7                        0                          0                      1   \n",
       "8                        0                          0                      0   \n",
       "9                        0                          0                      0   \n",
       "10                       0                          0                      0   \n",
       "\n",
       "    CIT Officer Dispatched  CIT Officer Arrived  Officer Gender  Officer Race  \\\n",
       "6                        1                    1               1      0.688478   \n",
       "7                        1                    0               0      0.688478   \n",
       "8                        0                    1               1      0.688478   \n",
       "9                        0                    1               0      0.688478   \n",
       "10                       0                    1               1      0.688478   \n",
       "\n",
       "    Officer Year of Birth  Officer Years of Experience  \\\n",
       "6                    1968                           39   \n",
       "7                    1969                            7   \n",
       "8                    1984                            8   \n",
       "9                    1970                            2   \n",
       "10                   1981                            6   \n",
       "\n",
       "    CIT Certified Indicator  Officer Bureau Desc  Officer Precinct Desc  \\\n",
       "6                         0             0.819435               0.231033   \n",
       "7                         0             0.819435               0.172281   \n",
       "8                         0             0.819435               0.243897   \n",
       "9                         0             0.819435               0.172281   \n",
       "10                        0             0.819435               0.243897   \n",
       "\n",
       "    Officer Squad Desc  Precinct    Sector      Beat  \n",
       "6             0.012120  0.259036  0.052400  0.015325  \n",
       "7             0.015039  0.193630  0.089117  0.032896  \n",
       "8             0.017343  0.271113  0.094783  0.027402  \n",
       "9             0.014939  0.081747  0.082062  0.081647  \n",
       "10            0.016055  0.271113  0.094783  0.035028  "
      ]
     },
     "execution_count": 70,
     "metadata": {},
     "output_type": "execute_result"
    }
   ],
   "source": [
    "df.head()"
   ]
  },
  {
   "cell_type": "markdown",
   "metadata": {},
   "source": [
    "##### Seperating features with target variable"
   ]
  },
  {
   "cell_type": "code",
   "execution_count": 71,
   "metadata": {},
   "outputs": [],
   "source": [
    "#Seperating features\n",
    "x = [x for x in df.columns if x != 'CIT Certified Indicator']\n",
    "X=df[x]\n",
    "y= df['CIT Certified Indicator']"
   ]
  },
  {
   "cell_type": "markdown",
   "metadata": {},
   "source": [
    "##### Chi Square test for importent features"
   ]
  },
  {
   "cell_type": "code",
   "execution_count": 72,
   "metadata": {},
   "outputs": [],
   "source": [
    "#apply SelectKBest class to extract top 12 best features\n",
    "from sklearn.feature_selection import SelectKBest\n",
    "from sklearn.feature_selection import chi2\n",
    "bestfeatures = SelectKBest(score_func=chi2, k=12)\n",
    "fit = bestfeatures.fit(X,y)\n",
    "dfscores = pd.DataFrame(fit.scores_)\n",
    "dfcolumns = pd.DataFrame(X.columns)\n",
    "#concat two dataframes for better visualization \n",
    "featureScores = pd.concat([dfcolumns,dfscores],axis=1)\n",
    "featureScores.columns = ['Features','Score'] "
   ]
  },
  {
   "cell_type": "code",
   "execution_count": 73,
   "metadata": {},
   "outputs": [
    {
     "data": {
      "text/html": [
       "<div>\n",
       "<style scoped>\n",
       "    .dataframe tbody tr th:only-of-type {\n",
       "        vertical-align: middle;\n",
       "    }\n",
       "\n",
       "    .dataframe tbody tr th {\n",
       "        vertical-align: top;\n",
       "    }\n",
       "\n",
       "    .dataframe thead th {\n",
       "        text-align: right;\n",
       "    }\n",
       "</style>\n",
       "<table border=\"1\" class=\"dataframe\">\n",
       "  <thead>\n",
       "    <tr style=\"text-align: right;\">\n",
       "      <th></th>\n",
       "      <th>Features</th>\n",
       "      <th>Score</th>\n",
       "    </tr>\n",
       "  </thead>\n",
       "  <tbody>\n",
       "    <tr>\n",
       "      <th>0</th>\n",
       "      <td>Call Type</td>\n",
       "      <td>6.324511</td>\n",
       "    </tr>\n",
       "    <tr>\n",
       "      <th>1</th>\n",
       "      <td>Initial Call Type</td>\n",
       "      <td>0.163412</td>\n",
       "    </tr>\n",
       "    <tr>\n",
       "      <th>2</th>\n",
       "      <td>Final Call Type</td>\n",
       "      <td>3.116880</td>\n",
       "    </tr>\n",
       "    <tr>\n",
       "      <th>3</th>\n",
       "      <td>Disposition</td>\n",
       "      <td>6.352167</td>\n",
       "    </tr>\n",
       "    <tr>\n",
       "      <th>4</th>\n",
       "      <td>Use of Force Indicator</td>\n",
       "      <td>4.139137</td>\n",
       "    </tr>\n",
       "    <tr>\n",
       "      <th>5</th>\n",
       "      <td>Subject Veteran Indicator</td>\n",
       "      <td>1.134397</td>\n",
       "    </tr>\n",
       "    <tr>\n",
       "      <th>6</th>\n",
       "      <td>CIT Officer Requested</td>\n",
       "      <td>1046.646018</td>\n",
       "    </tr>\n",
       "    <tr>\n",
       "      <th>7</th>\n",
       "      <td>CIT Officer Dispatched</td>\n",
       "      <td>1046.646018</td>\n",
       "    </tr>\n",
       "    <tr>\n",
       "      <th>8</th>\n",
       "      <td>CIT Officer Arrived</td>\n",
       "      <td>1260.743879</td>\n",
       "    </tr>\n",
       "    <tr>\n",
       "      <th>9</th>\n",
       "      <td>Officer Gender</td>\n",
       "      <td>10.055223</td>\n",
       "    </tr>\n",
       "    <tr>\n",
       "      <th>10</th>\n",
       "      <td>Officer Race</td>\n",
       "      <td>6.947382</td>\n",
       "    </tr>\n",
       "    <tr>\n",
       "      <th>11</th>\n",
       "      <td>Officer Year of Birth</td>\n",
       "      <td>157.679016</td>\n",
       "    </tr>\n",
       "    <tr>\n",
       "      <th>12</th>\n",
       "      <td>Officer Years of Experience</td>\n",
       "      <td>22839.878533</td>\n",
       "    </tr>\n",
       "    <tr>\n",
       "      <th>13</th>\n",
       "      <td>Officer Bureau Desc</td>\n",
       "      <td>288.268542</td>\n",
       "    </tr>\n",
       "    <tr>\n",
       "      <th>14</th>\n",
       "      <td>Officer Precinct Desc</td>\n",
       "      <td>0.368046</td>\n",
       "    </tr>\n",
       "    <tr>\n",
       "      <th>15</th>\n",
       "      <td>Officer Squad Desc</td>\n",
       "      <td>133.593723</td>\n",
       "    </tr>\n",
       "    <tr>\n",
       "      <th>16</th>\n",
       "      <td>Precinct</td>\n",
       "      <td>5.941726</td>\n",
       "    </tr>\n",
       "    <tr>\n",
       "      <th>17</th>\n",
       "      <td>Sector</td>\n",
       "      <td>2.589753</td>\n",
       "    </tr>\n",
       "    <tr>\n",
       "      <th>18</th>\n",
       "      <td>Beat</td>\n",
       "      <td>0.163048</td>\n",
       "    </tr>\n",
       "  </tbody>\n",
       "</table>\n",
       "</div>"
      ],
      "text/plain": [
       "                       Features         Score\n",
       "0                     Call Type      6.324511\n",
       "1             Initial Call Type      0.163412\n",
       "2               Final Call Type      3.116880\n",
       "3                   Disposition      6.352167\n",
       "4        Use of Force Indicator      4.139137\n",
       "5     Subject Veteran Indicator      1.134397\n",
       "6         CIT Officer Requested   1046.646018\n",
       "7        CIT Officer Dispatched   1046.646018\n",
       "8           CIT Officer Arrived   1260.743879\n",
       "9                Officer Gender     10.055223\n",
       "10                 Officer Race      6.947382\n",
       "11        Officer Year of Birth    157.679016\n",
       "12  Officer Years of Experience  22839.878533\n",
       "13          Officer Bureau Desc    288.268542\n",
       "14        Officer Precinct Desc      0.368046\n",
       "15           Officer Squad Desc    133.593723\n",
       "16                     Precinct      5.941726\n",
       "17                       Sector      2.589753\n",
       "18                         Beat      0.163048"
      ]
     },
     "execution_count": 73,
     "metadata": {},
     "output_type": "execute_result"
    }
   ],
   "source": [
    "featureScores"
   ]
  },
  {
   "cell_type": "code",
   "execution_count": 74,
   "metadata": {},
   "outputs": [
    {
     "name": "stdout",
     "output_type": "stream",
     "text": [
      "                       Features         Score\n",
      "12  Officer Years of Experience  22839.878533\n",
      "8           CIT Officer Arrived   1260.743879\n",
      "6         CIT Officer Requested   1046.646018\n",
      "7        CIT Officer Dispatched   1046.646018\n",
      "13          Officer Bureau Desc    288.268542\n",
      "11        Officer Year of Birth    157.679016\n",
      "15           Officer Squad Desc    133.593723\n",
      "9                Officer Gender     10.055223\n",
      "10                 Officer Race      6.947382\n",
      "3                   Disposition      6.352167\n",
      "0                     Call Type      6.324511\n",
      "16                     Precinct      5.941726\n"
     ]
    }
   ],
   "source": [
    "print(featureScores.nlargest(12,'Score'))  #print 12 best features"
   ]
  },
  {
   "cell_type": "markdown",
   "metadata": {},
   "source": [
    "Inferences:\n",
    "\n",
    "Based on Score from Chi Square test, we are considering top 12 features and dropping the remaning"
   ]
  },
  {
   "cell_type": "code",
   "execution_count": 75,
   "metadata": {},
   "outputs": [],
   "source": [
    "#Dropping the unimportant features\n",
    "X.drop(['Initial Call Type','Beat','Officer Precinct Desc','Subject Veteran Indicator','Sector','Final Call Type','Use of Force Indicator'],axis=1,inplace=True)"
   ]
  },
  {
   "cell_type": "code",
   "execution_count": 76,
   "metadata": {},
   "outputs": [
    {
     "data": {
      "text/html": [
       "<div>\n",
       "<style scoped>\n",
       "    .dataframe tbody tr th:only-of-type {\n",
       "        vertical-align: middle;\n",
       "    }\n",
       "\n",
       "    .dataframe tbody tr th {\n",
       "        vertical-align: top;\n",
       "    }\n",
       "\n",
       "    .dataframe thead th {\n",
       "        text-align: right;\n",
       "    }\n",
       "</style>\n",
       "<table border=\"1\" class=\"dataframe\">\n",
       "  <thead>\n",
       "    <tr style=\"text-align: right;\">\n",
       "      <th></th>\n",
       "      <th>Call Type</th>\n",
       "      <th>Disposition</th>\n",
       "      <th>CIT Officer Requested</th>\n",
       "      <th>CIT Officer Dispatched</th>\n",
       "      <th>CIT Officer Arrived</th>\n",
       "      <th>Officer Gender</th>\n",
       "      <th>Officer Race</th>\n",
       "      <th>Officer Year of Birth</th>\n",
       "      <th>Officer Years of Experience</th>\n",
       "      <th>Officer Bureau Desc</th>\n",
       "      <th>Officer Squad Desc</th>\n",
       "      <th>Precinct</th>\n",
       "    </tr>\n",
       "  </thead>\n",
       "  <tbody>\n",
       "    <tr>\n",
       "      <th>6</th>\n",
       "      <td>0.677317</td>\n",
       "      <td>0.306599</td>\n",
       "      <td>1</td>\n",
       "      <td>1</td>\n",
       "      <td>1</td>\n",
       "      <td>1</td>\n",
       "      <td>0.688478</td>\n",
       "      <td>1968</td>\n",
       "      <td>39</td>\n",
       "      <td>0.819435</td>\n",
       "      <td>0.012120</td>\n",
       "      <td>0.259036</td>\n",
       "    </tr>\n",
       "    <tr>\n",
       "      <th>7</th>\n",
       "      <td>0.677317</td>\n",
       "      <td>0.040194</td>\n",
       "      <td>1</td>\n",
       "      <td>1</td>\n",
       "      <td>0</td>\n",
       "      <td>0</td>\n",
       "      <td>0.688478</td>\n",
       "      <td>1969</td>\n",
       "      <td>7</td>\n",
       "      <td>0.819435</td>\n",
       "      <td>0.015039</td>\n",
       "      <td>0.193630</td>\n",
       "    </tr>\n",
       "    <tr>\n",
       "      <th>8</th>\n",
       "      <td>0.069241</td>\n",
       "      <td>0.200698</td>\n",
       "      <td>0</td>\n",
       "      <td>0</td>\n",
       "      <td>1</td>\n",
       "      <td>1</td>\n",
       "      <td>0.688478</td>\n",
       "      <td>1984</td>\n",
       "      <td>8</td>\n",
       "      <td>0.819435</td>\n",
       "      <td>0.017343</td>\n",
       "      <td>0.271113</td>\n",
       "    </tr>\n",
       "    <tr>\n",
       "      <th>9</th>\n",
       "      <td>0.677317</td>\n",
       "      <td>0.002247</td>\n",
       "      <td>0</td>\n",
       "      <td>0</td>\n",
       "      <td>1</td>\n",
       "      <td>0</td>\n",
       "      <td>0.688478</td>\n",
       "      <td>1970</td>\n",
       "      <td>2</td>\n",
       "      <td>0.819435</td>\n",
       "      <td>0.014939</td>\n",
       "      <td>0.081747</td>\n",
       "    </tr>\n",
       "    <tr>\n",
       "      <th>10</th>\n",
       "      <td>0.677317</td>\n",
       "      <td>0.306599</td>\n",
       "      <td>0</td>\n",
       "      <td>0</td>\n",
       "      <td>1</td>\n",
       "      <td>1</td>\n",
       "      <td>0.688478</td>\n",
       "      <td>1981</td>\n",
       "      <td>6</td>\n",
       "      <td>0.819435</td>\n",
       "      <td>0.016055</td>\n",
       "      <td>0.271113</td>\n",
       "    </tr>\n",
       "  </tbody>\n",
       "</table>\n",
       "</div>"
      ],
      "text/plain": [
       "    Call Type  Disposition  CIT Officer Requested  CIT Officer Dispatched  \\\n",
       "6    0.677317     0.306599                      1                       1   \n",
       "7    0.677317     0.040194                      1                       1   \n",
       "8    0.069241     0.200698                      0                       0   \n",
       "9    0.677317     0.002247                      0                       0   \n",
       "10   0.677317     0.306599                      0                       0   \n",
       "\n",
       "    CIT Officer Arrived  Officer Gender  Officer Race  Officer Year of Birth  \\\n",
       "6                     1               1      0.688478                   1968   \n",
       "7                     0               0      0.688478                   1969   \n",
       "8                     1               1      0.688478                   1984   \n",
       "9                     1               0      0.688478                   1970   \n",
       "10                    1               1      0.688478                   1981   \n",
       "\n",
       "    Officer Years of Experience  Officer Bureau Desc  Officer Squad Desc  \\\n",
       "6                            39             0.819435            0.012120   \n",
       "7                             7             0.819435            0.015039   \n",
       "8                             8             0.819435            0.017343   \n",
       "9                             2             0.819435            0.014939   \n",
       "10                            6             0.819435            0.016055   \n",
       "\n",
       "    Precinct  \n",
       "6   0.259036  \n",
       "7   0.193630  \n",
       "8   0.271113  \n",
       "9   0.081747  \n",
       "10  0.271113  "
      ]
     },
     "execution_count": 76,
     "metadata": {},
     "output_type": "execute_result"
    }
   ],
   "source": [
    "X.head()"
   ]
  },
  {
   "cell_type": "markdown",
   "metadata": {},
   "source": [
    "##### Comparing Output  Feature"
   ]
  },
  {
   "cell_type": "code",
   "execution_count": 77,
   "metadata": {},
   "outputs": [
    {
     "data": {
      "text/plain": [
       "0    37886\n",
       "1    32000\n",
       "Name: CIT Certified Indicator, dtype: int64"
      ]
     },
     "execution_count": 77,
     "metadata": {},
     "output_type": "execute_result"
    },
    {
     "data": {
      "image/png": "[encoded data removed]",
      "text/plain": [
       "<Figure size 432x288 with 1 Axes>"
      ]
     },
     "metadata": {
      "needs_background": "light"
     },
     "output_type": "display_data"
    }
   ],
   "source": [
    "y.value_counts().plot(kind='barh')\n",
    "y.value_counts()"
   ]
  },
  {
   "cell_type": "markdown",
   "metadata": {},
   "source": [
    "Inferences:\n",
    "Based on difference between 0's and 1's. \n",
    "it's an imbalenced dataset (~5872 difference)\n"
   ]
  },
  {
   "cell_type": "markdown",
   "metadata": {},
   "source": [
    "**Evaluation Metric: F-Score**\n",
    "\n",
    "The metrics such as Precision, Sensitivity, Recall, Specificity, F-Score, ROC-AUC Curve is used to evaluate the Classification problem.\n",
    "\n",
    "Here, we could observe that the output data is slightly imbalnced, here we could use the F-1 Score. \n",
    "F-1 score is generally useful when working with the imbalanced dataset and it also combines precision with recall into a single metric. "
   ]
  },
  {
   "cell_type": "markdown",
   "metadata": {},
   "source": [
    "##### Splitting the data into train & test"
   ]
  },
  {
   "cell_type": "code",
   "execution_count": 78,
   "metadata": {},
   "outputs": [
    {
     "name": "stdout",
     "output_type": "stream",
     "text": [
      "Training samples: 48,920\n",
      "Test samples: 20,966\n"
     ]
    }
   ],
   "source": [
    "from sklearn.model_selection import train_test_split\n",
    "\n",
    "X_train, X_test, y_train, y_test = train_test_split(X, y, test_size=0.3,random_state=50,stratify=y)\n",
    "\n",
    "print(f'Training samples: {X_train.shape[0]:,}')\n",
    "print(f'Test samples: {X_test.shape[0]:,}')"
   ]
  },
  {
   "cell_type": "markdown",
   "metadata": {},
   "source": [
    "##### Coorelation matrix"
   ]
  },
  {
   "cell_type": "code",
   "execution_count": 79,
   "metadata": {},
   "outputs": [
    {
     "data": {
      "text/plain": [
       "<matplotlib.axes._subplots.AxesSubplot at 0x12b34a79e08>"
      ]
     },
     "execution_count": 79,
     "metadata": {},
     "output_type": "execute_result"
    },
    {
     "data": {
      "image/png": "[encoded data removed]",
      "text/plain": [
       "<Figure size 1296x648 with 2 Axes>"
      ]
     },
     "metadata": {
      "needs_background": "light"
     },
     "output_type": "display_data"
    }
   ],
   "source": [
    "plt.figure(figsize=(18,9))\n",
    "sns.heatmap(X.corr(),annot=True)"
   ]
  },
  {
   "cell_type": "markdown",
   "metadata": {},
   "source": [
    "Inferences:\n",
    "    \n",
    "Based on Coorelation matrix we can see that the columns CIT Officer Requested  and CIT Officer Dispatched are highly coorelated "
   ]
  },
  {
   "cell_type": "markdown",
   "metadata": {},
   "source": [
    "##### Creating pipeline with Standrad Scaler"
   ]
  },
  {
   "cell_type": "code",
   "execution_count": 80,
   "metadata": {},
   "outputs": [],
   "source": [
    "from sklearn.pipeline import Pipeline\n",
    "from sklearn.impute import SimpleImputer\n",
    "from sklearn.preprocessing import StandardScaler\n",
    "\n",
    "processing_pipeline = Pipeline([('impute_missing', SimpleImputer(missing_values=0,strategy='median')),('scaler', StandardScaler())])\n"
   ]
  },
  {
   "cell_type": "code",
   "execution_count": 81,
   "metadata": {},
   "outputs": [
    {
     "data": {
      "text/plain": [
       "Pipeline(steps=[('impute_missing',\n",
       "                 SimpleImputer(missing_values=0, strategy='median')),\n",
       "                ('scaler', StandardScaler())])"
      ]
     },
     "execution_count": 81,
     "metadata": {},
     "output_type": "execute_result"
    }
   ],
   "source": [
    "processing_pipeline"
   ]
  },
  {
   "cell_type": "markdown",
   "metadata": {},
   "source": [
    "### Prediction using LogisticRegression"
   ]
  },
  {
   "cell_type": "code",
   "execution_count": 82,
   "metadata": {},
   "outputs": [],
   "source": [
    "from sklearn.linear_model import LogisticRegression\n",
    "from sklearn.metrics import accuracy_score, f1_score\n",
    "from sklearn.metrics import classification_report"
   ]
  },
  {
   "cell_type": "code",
   "execution_count": 83,
   "metadata": {},
   "outputs": [],
   "source": [
    "modeling_pipeline = Pipeline([('data_processing', processing_pipeline),('lr', LogisticRegression(penalty='l2'))])\n",
    "LR = modeling_pipeline.fit(X_train, y_train)"
   ]
  },
  {
   "cell_type": "code",
   "execution_count": 84,
   "metadata": {},
   "outputs": [
    {
     "name": "stdout",
     "output_type": "stream",
     "text": [
      "Test score: 0.6319278832395306\n",
      "Training Score: 0.6298650858544562\n"
     ]
    }
   ],
   "source": [
    "#calculating the accuracy score on test data and Training data \n",
    "predictions=LR.predict(X_test)\n",
    "print(\"Test score:\",accuracy_score(predictions, y_test))\n",
    "predictions_train = LR.predict(X_train)\n",
    "print(\"Training Score:\",accuracy_score(predictions_train, y_train))"
   ]
  },
  {
   "cell_type": "markdown",
   "metadata": {},
   "source": [
    "##### Plotting the ROC_AUC_CURVE"
   ]
  },
  {
   "cell_type": "code",
   "execution_count": 85,
   "metadata": {},
   "outputs": [
    {
     "data": {
      "text/plain": [
       "<sklearn.metrics._plot.roc_curve.RocCurveDisplay at 0x12b3561c588>"
      ]
     },
     "execution_count": 85,
     "metadata": {},
     "output_type": "execute_result"
    },
    {
     "data": {
      "image/png": "[encoded data removed]",
      "text/plain": [
       "<Figure size 432x288 with 1 Axes>"
      ]
     },
     "metadata": {
      "needs_background": "light"
     },
     "output_type": "display_data"
    }
   ],
   "source": [
    "from sklearn.metrics import roc_auc_score, plot_roc_curve\n",
    "plot_roc_curve(LR, X_test,y_test,name='Logistic Regression')"
   ]
  },
  {
   "cell_type": "code",
   "execution_count": 86,
   "metadata": {},
   "outputs": [
    {
     "name": "stdout",
     "output_type": "stream",
     "text": [
      "f1_score: 0.5801186136351271\n"
     ]
    },
    {
     "data": {
      "text/plain": [
       "array([[7918, 3448],\n",
       "       [4269, 5331]], dtype=int64)"
      ]
     },
     "execution_count": 86,
     "metadata": {},
     "output_type": "execute_result"
    }
   ],
   "source": [
    "from sklearn.metrics import confusion_matrix,f1_score\n",
    "print('f1_score:',f1_score(y_test, predictions))\n",
    "\n",
    "confusion_matrix(y_test, predictions)"
   ]
  },
  {
   "cell_type": "markdown",
   "metadata": {},
   "source": [
    "Inferences:\n",
    "\n",
    "1.Here I've used Logistic Regression with L2 penalty.\n",
    "\n",
    "2.Training accuracy and Test accuracy are close to each other, so there is no case of over-fitting or under-fitting.\n",
    "\n",
    "3.Since it's a imbalneced target variable so we are considering F1-Score for Performace Evaluation metrics\n",
    "     f1_score is 58% with Logistic Regression with L2 penalty\n",
    "  \n",
    "4.AUC value is 69% that implies, the model is 69% accurate in distinguishing the classes.\n"
   ]
  },
  {
   "cell_type": "markdown",
   "metadata": {},
   "source": [
    "##### Logistic Regression using Grid Search CV at various regularization strengths and liblinear solver"
   ]
  },
  {
   "cell_type": "code",
   "execution_count": 87,
   "metadata": {},
   "outputs": [],
   "source": [
    "from sklearn.linear_model import LogisticRegression\n",
    "from sklearn.model_selection import GridSearchCV\n",
    "from sklearn.pipeline import Pipeline\n",
    "\n",
    "P_LR = Pipeline([('processing', processing_pipeline),\n",
    "             ('lr', LogisticRegression(penalty='l2',solver='liblinear'))])\n",
    "\n",
    "params = {'lr__C': [0.01, 0.1, 1, 10,100]}\n",
    "\n",
    "LR = GridSearchCV(P_LR, param_grid=params, cv=10, scoring='f1', refit=True)\n",
    "LR = LR.fit(X_train, y_train)\n",
    "LR_pred = LR.predict(X_test)\n"
   ]
  },
  {
   "cell_type": "code",
   "execution_count": 88,
   "metadata": {},
   "outputs": [
    {
     "name": "stdout",
     "output_type": "stream",
     "text": [
      "Test score: 0.6331679862634741\n",
      "Training Score: 0.6311733442354865\n"
     ]
    }
   ],
   "source": [
    "#calculating the accuracy score on test data and Training data \n",
    "predictions=LR.predict(X_test)\n",
    "print(\"Test score:\",accuracy_score(predictions, y_test))\n",
    "predictions_train = LR.predict(X_train)\n",
    "print(\"Training Score:\",accuracy_score(predictions_train, y_train))"
   ]
  },
  {
   "cell_type": "markdown",
   "metadata": {},
   "source": [
    "##### Plotting the ROC_AUC_CURVE"
   ]
  },
  {
   "cell_type": "code",
   "execution_count": 89,
   "metadata": {},
   "outputs": [
    {
     "data": {
      "text/plain": [
       "<sklearn.metrics._plot.roc_curve.RocCurveDisplay at 0x12b356f6a08>"
      ]
     },
     "execution_count": 89,
     "metadata": {},
     "output_type": "execute_result"
    },
    {
     "data": {
      "image/png": "[encoded data removed]",
      "text/plain": [
       "<Figure size 432x288 with 1 Axes>"
      ]
     },
     "metadata": {
      "needs_background": "light"
     },
     "output_type": "display_data"
    }
   ],
   "source": [
    "plot_roc_curve(LR, X_test,y_test, name='Logistic Regression using Grid Search CV & Liblinear Solver')"
   ]
  },
  {
   "cell_type": "code",
   "execution_count": 90,
   "metadata": {},
   "outputs": [
    {
     "name": "stdout",
     "output_type": "stream",
     "text": [
      "f1_score: 0.5826233244695284\n"
     ]
    },
    {
     "data": {
      "text/plain": [
       "array([[7907, 3459],\n",
       "       [4232, 5368]], dtype=int64)"
      ]
     },
     "execution_count": 90,
     "metadata": {},
     "output_type": "execute_result"
    }
   ],
   "source": [
    "from sklearn.metrics import confusion_matrix,f1_score\n",
    "print('f1_score:',f1_score(y_test, LR_pred))\n",
    "\n",
    "confusion_matrix(y_test, LR_pred)"
   ]
  },
  {
   "cell_type": "code",
   "execution_count": 91,
   "metadata": {},
   "outputs": [
    {
     "data": {
      "text/plain": [
       "{'lr__C': 0.01}"
      ]
     },
     "execution_count": 91,
     "metadata": {},
     "output_type": "execute_result"
    }
   ],
   "source": [
    "LR.best_params_"
   ]
  },
  {
   "cell_type": "markdown",
   "metadata": {},
   "source": [
    "Inferences:\n",
    "\n",
    "1.Here i'm using Logistic Regression with 10 folds Cross Validation,L2 penalty and liblinear solver.\n",
    "\n",
    "2.Training accuracy and Test accuracy are close to each other, so there is no case of over-fitting or under-fitting.\n",
    "\n",
    "3.Since it's a imbalneced target variable so we are considering F1-Score for Performace Evaluation metrics\n",
    "  f1_score is 58% with Logistic Regression with L2 penalty with 10 folds Cross Validation.\n",
    "  \n",
    "4.AUC value is 69% that implies, the model is 69% accurate in distinguishing the classes."
   ]
  },
  {
   "cell_type": "markdown",
   "metadata": {},
   "source": [
    "##### Logistic Regression using  Grid Search CV at various regularization strengths and saga solver"
   ]
  },
  {
   "cell_type": "code",
   "execution_count": 93,
   "metadata": {},
   "outputs": [],
   "source": [
    "from sklearn.linear_model import LogisticRegression\n",
    "from sklearn.model_selection import GridSearchCV\n",
    "from sklearn.pipeline import Pipeline\n",
    "\n",
    "P_LR = Pipeline([('processing', processing_pipeline),\n",
    "             ('lr', LogisticRegression(solver='saga'))])\n",
    "\n",
    "params = {'lr__C': [0.01, 0.1, 1, 10,100]}\n",
    "\n",
    "LR = GridSearchCV(P_LR, param_grid=params, cv=10, scoring='f1', refit=True)\n",
    "LR = LR.fit(X_train, y_train)\n",
    "LR_pred = LR.predict(X_test)"
   ]
  },
  {
   "cell_type": "code",
   "execution_count": 94,
   "metadata": {},
   "outputs": [
    {
     "name": "stdout",
     "output_type": "stream",
     "text": [
      "Test score: 0.6332156825336259\n",
      "Training Score: 0.6308871627146362\n"
     ]
    }
   ],
   "source": [
    "#calculating the accuracy score on test data and Training data \n",
    "predictions=LR.predict(X_test)\n",
    "print(\"Test score:\",accuracy_score(predictions, y_test))\n",
    "predictions_train = LR.predict(X_train)\n",
    "print(\"Training Score:\",accuracy_score(predictions_train, y_train))"
   ]
  },
  {
   "cell_type": "markdown",
   "metadata": {},
   "source": [
    "##### Plotting the ROC_AUC_CURVE"
   ]
  },
  {
   "cell_type": "code",
   "execution_count": null,
   "metadata": {},
   "outputs": [],
   "source": [
    "plot_roc_curve(LR, X_test,y_test, name='Logistic Regression using Grid Search CV & Saga Solver')"
   ]
  },
  {
   "cell_type": "code",
   "execution_count": null,
   "metadata": {},
   "outputs": [],
   "source": [
    "from sklearn.metrics import confusion_matrix,f1_score\n",
    "print('f1_score:',f1_score(y_test, LR_pred))\n",
    "confusion_matrix(y_test, LR_pred)"
   ]
  },
  {
   "cell_type": "code",
   "execution_count": null,
   "metadata": {},
   "outputs": [],
   "source": [
    "LR.best_params_"
   ]
  },
  {
   "cell_type": "markdown",
   "metadata": {},
   "source": [
    "Inferences:\n",
    "\n",
    "1.Here i'm using Logistic Regression with 10 folds Cross Validation,L2 penalty and Saga solver\n",
    "\n",
    "2.Training accuracy and Test accuracy are close to each other, so there is no case of over-fitting or under-fitting\n",
    "\n",
    "3.Since it's a imbalneced target variable so we are considering F1-Score for Performace Evaluation metrics\n",
    "  f1_score is 58% with Logistic Regression with L2 penalty and saga solver.\n",
    "  \n",
    "4.AUC value is 69% that implies, the model is 69% accurate in distinguishing the classes.\n",
    "\n",
    "5.Logistic Regression with Various regularization strengths giving same kind of results."
   ]
  },
  {
   "cell_type": "markdown",
   "metadata": {},
   "source": [
    "### Prediction using  K-Nearest Neighbours "
   ]
  },
  {
   "cell_type": "code",
   "execution_count": null,
   "metadata": {},
   "outputs": [],
   "source": [
    "from sklearn.pipeline import Pipeline\n",
    "from sklearn.preprocessing import StandardScaler\n",
    "from sklearn.neighbors import KNeighborsClassifier\n",
    "from sklearn.model_selection import GridSearchCV\n",
    "from sklearn.metrics import ConfusionMatrixDisplay\n",
    "\n",
    "knn_m= Pipeline([('processing', processing_pipeline),('model', KNeighborsClassifier())])\n",
    "\n",
    "param_grid = [\n",
    "  {'model__n_neighbors': [1, 3, 7, 10, 15], 'model__weights': ['uniform','distance']}\n",
    " ]\n",
    "\n",
    "knn_results = GridSearchCV(estimator=knn_m, param_grid=param_grid, scoring='f1', refit=True, cv=5)\n",
    "knn_results = knn_results.fit(X_train, y_train)"
   ]
  },
  {
   "cell_type": "code",
   "execution_count": null,
   "metadata": {},
   "outputs": [],
   "source": [
    "#calculating the accuracy score on test data and Training data \n",
    "predictions_train = knn_results.predict(X_train)\n",
    "print(\"Training Score:\",accuracy_score(predictions_train, y_train))\n",
    "predictions=knn_results.predict(X_test)\n",
    "print(\"Test score:\",accuracy_score(predictions, y_test))"
   ]
  },
  {
   "cell_type": "markdown",
   "metadata": {},
   "source": [
    "##### Plotting the ROC_AUC_CURVE"
   ]
  },
  {
   "cell_type": "code",
   "execution_count": null,
   "metadata": {},
   "outputs": [],
   "source": [
    "plot_roc_curve(knn_results, X_test,y_test, name='KNN')"
   ]
  },
  {
   "cell_type": "code",
   "execution_count": null,
   "metadata": {},
   "outputs": [],
   "source": [
    "knn_results_p= knn_results.predict(X_test)\n",
    "from sklearn.metrics import confusion_matrix,f1_score\n",
    "print('f1_score:',f1_score(y_test, knn_results_p))\n",
    "\n",
    "confusion_matrix(y_test, knn_results_p)"
   ]
  },
  {
   "cell_type": "code",
   "execution_count": null,
   "metadata": {},
   "outputs": [],
   "source": [
    "knn_results.best_params_"
   ]
  },
  {
   "cell_type": "markdown",
   "metadata": {},
   "source": [
    "Inferences:\n",
    "\n",
    "1.By Using KNN, F1_Score is  82%  which is better then Logistic regression.\n",
    "\n",
    "2.Training accuracy and Test accuracy are not close to each other, Training accuracy is high then compared to Test accuracy     means \n",
    "  it's Overfitting(High Variance)"
   ]
  },
  {
   "cell_type": "markdown",
   "metadata": {},
   "source": [
    "### Prediction using Decision Tree"
   ]
  },
  {
   "cell_type": "code",
   "execution_count": null,
   "metadata": {},
   "outputs": [],
   "source": [
    "from sklearn.tree import DecisionTreeClassifier\n",
    "from sklearn.model_selection import GridSearchCV\n",
    "from sklearn.pipeline import Pipeline\n",
    "\n",
    "p_dt = Pipeline([('processing', processing_pipeline),('dt', DecisionTreeClassifier())])\n",
    "params = {'dt__max_depth': [1, 5, 10, 15, 25, 50, 100],'dt__min_samples_split': [3, 10, 15]}\n",
    "dt = GridSearchCV(p_dt, param_grid=params, cv=10, scoring='f1', refit=True)\n",
    "dt = dt.fit(X_train, y_train)\n",
    "dt_p = dt.predict(X_test)"
   ]
  },
  {
   "cell_type": "code",
   "execution_count": null,
   "metadata": {},
   "outputs": [],
   "source": [
    "#calculating the accuracy score on test data and Training data \n",
    "predictions_train = dt.predict(X_train)\n",
    "print(\"Training Score:\",accuracy_score(predictions_train, y_train))\n",
    "predictions=dt.predict(X_test)\n",
    "print(\"Test score:\",accuracy_score(predictions, y_test))"
   ]
  },
  {
   "cell_type": "markdown",
   "metadata": {},
   "source": [
    "##### Plotting the ROC_AUC_CURVE"
   ]
  },
  {
   "cell_type": "code",
   "execution_count": null,
   "metadata": {},
   "outputs": [],
   "source": [
    "plot_roc_curve(dt, X_test,y_test, name='Decision Tree')"
   ]
  },
  {
   "cell_type": "code",
   "execution_count": null,
   "metadata": {},
   "outputs": [],
   "source": [
    "from sklearn.metrics import confusion_matrix,f1_score\n",
    "print('f1_score:',f1_score(y_test, dt_p))\n",
    "\n",
    "confusion_matrix(y_test, dt_p)"
   ]
  },
  {
   "cell_type": "code",
   "execution_count": null,
   "metadata": {},
   "outputs": [],
   "source": [
    "dt.best_params_"
   ]
  },
  {
   "cell_type": "markdown",
   "metadata": {},
   "source": [
    "Inferences:\n",
    "\n",
    "1.Decision Tree giving best F1_Score (87%) then comparing to Logisic regression and KNN \n",
    "\n",
    "2.Training accuracy and Test accuracy are not close to each other, Training accuracy is high then compared to Test accuracy means it's Overfitting (Depth increases in DecisionTree will cause to high Variance that means Over fitting)"
   ]
  },
  {
   "cell_type": "markdown",
   "metadata": {},
   "source": [
    "### Prediction using RandomForest"
   ]
  },
  {
   "cell_type": "code",
   "execution_count": null,
   "metadata": {},
   "outputs": [],
   "source": [
    "from sklearn.ensemble import RandomForestClassifier\n",
    "from sklearn.model_selection import GridSearchCV\n",
    "p_RF = Pipeline([('processing', processing_pipeline),('RF', RandomForestClassifier())])\n",
    "#params = {'RF__max_depth': [1, 5, 10, 15],'RF__min_samples_split': [3, 10]}\n",
    "#RF = GridSearchCV(p_RF, cv=10, scoring='f1', refit=True)\n",
    "RF = p_RF.fit(X_train, y_train)\n",
    "RF_p = RF.predict(X_test)"
   ]
  },
  {
   "cell_type": "code",
   "execution_count": null,
   "metadata": {},
   "outputs": [],
   "source": [
    "#calculating the accuracy score on test data and Training data \n",
    "predictions_train = RF.predict(X_train)\n",
    "print(\"Training Score:\",accuracy_score(predictions_train, y_train))\n",
    "predictions=RF.predict(X_test)\n",
    "print(\"Test score:\",accuracy_score(predictions, y_test))"
   ]
  },
  {
   "cell_type": "markdown",
   "metadata": {},
   "source": [
    "##### Plotting the ROC_AUC_CURVE"
   ]
  },
  {
   "cell_type": "code",
   "execution_count": null,
   "metadata": {},
   "outputs": [],
   "source": [
    "plot_roc_curve(RF, X_test,y_test, name='RandomForest')"
   ]
  },
  {
   "cell_type": "code",
   "execution_count": null,
   "metadata": {},
   "outputs": [],
   "source": [
    "from sklearn.metrics import confusion_matrix,f1_score\n",
    "print('f1_score:',f1_score(y_test, RF_p))\n",
    "\n",
    "confusion_matrix(y_test, RF_p)"
   ]
  },
  {
   "cell_type": "markdown",
   "metadata": {},
   "source": [
    "Inferences:\n",
    "\n",
    "1.By Using RandomForest, F1_Score is 88%  which is better  than all the previous models.\n",
    "\n",
    "2.Training accuracy and Test accuracy are not close to each other, Training accuracy is high then compared to Test accuracy means \n",
    "  it's Overfitting(High Variance)"
   ]
  },
  {
   "cell_type": "markdown",
   "metadata": {},
   "source": [
    "### Prediction using Xgboost"
   ]
  },
  {
   "cell_type": "code",
   "execution_count": 115,
   "metadata": {},
   "outputs": [],
   "source": [
    "import xgboost as xgb \n",
    "from sklearn.ensemble import RandomForestClassifier\n",
    "p_xgb = Pipeline([('processing', processing_pipeline),('xgb', xgb.XGBClassifier())])\n",
    "xgb = p_xgb.fit(X_train, y_train)\n",
    "xgb_p = xgb.predict(X_test)"
   ]
  },
  {
   "cell_type": "code",
   "execution_count": 116,
   "metadata": {},
   "outputs": [
    {
     "name": "stdout",
     "output_type": "stream",
     "text": [
      "Training Score: 0.8916802943581358\n",
      "Test score: 0.8785652961938376\n"
     ]
    }
   ],
   "source": [
    "#calculating the accuracy score on test data and Training data \n",
    "predictions_train = xgb.predict(X_train)\n",
    "print(\"Training Score:\",accuracy_score(predictions_train, y_train))\n",
    "predictions=xgb.predict(X_test)\n",
    "print(\"Test score:\",accuracy_score(predictions, y_test))"
   ]
  },
  {
   "cell_type": "markdown",
   "metadata": {},
   "source": [
    "##### Plotting the ROC_AUC_CURVE"
   ]
  },
  {
   "cell_type": "code",
   "execution_count": 117,
   "metadata": {},
   "outputs": [
    {
     "data": {
      "text/plain": [
       "<sklearn.metrics._plot.roc_curve.RocCurveDisplay at 0x12b39f98e88>"
      ]
     },
     "execution_count": 117,
     "metadata": {},
     "output_type": "execute_result"
    },
    {
     "data": {
      "image/png": "[encoded data removed]",
      "text/plain": [
       "<Figure size 432x288 with 1 Axes>"
      ]
     },
     "metadata": {
      "needs_background": "light"
     },
     "output_type": "display_data"
    }
   ],
   "source": [
    "plot_roc_curve(xgb, X_test,y_test, name='Xgboost')"
   ]
  },
  {
   "cell_type": "code",
   "execution_count": 118,
   "metadata": {},
   "outputs": [
    {
     "name": "stdout",
     "output_type": "stream",
     "text": [
      "f1_score: 0.8719058160595694\n"
     ]
    },
    {
     "data": {
      "text/plain": [
       "array([[9755, 1611],\n",
       "       [ 935, 8665]], dtype=int64)"
      ]
     },
     "execution_count": 118,
     "metadata": {},
     "output_type": "execute_result"
    }
   ],
   "source": [
    "from sklearn.metrics import confusion_matrix,f1_score\n",
    "print('f1_score:',f1_score(y_test, xgb_p))\n",
    "confusion_matrix(y_test, xgb_p)"
   ]
  },
  {
   "cell_type": "markdown",
   "metadata": {},
   "source": [
    "Inferences:\n",
    "\n",
    "1.By Using Xgboost, F1_Score is 87%  which is less slight than Random Forest Model.\n",
    "\n",
    "2.Training accuracy and Test accuracy are not close to each other, Training accuracy is high then compared to Test accuracy means \n",
    "  it's Overfitting(High Variance)"
   ]
  },
  {
   "cell_type": "markdown",
   "metadata": {},
   "source": [
    "### Prediction using SVM"
   ]
  },
  {
   "cell_type": "code",
   "execution_count": 119,
   "metadata": {},
   "outputs": [],
   "source": [
    "from sklearn.svm import SVC\n",
    "from sklearn.model_selection import GridSearchCV\n",
    "p_svm= Pipeline([('processing', processing_pipeline),('clf', SVC(probability=True))])"
   ]
  },
  {
   "cell_type": "code",
   "execution_count": null,
   "metadata": {},
   "outputs": [],
   "source": [
    "# fitting the model \n",
    "svm = p_svm.fit(X_train, y_train)\n",
    "svm_p = svm.predict(X_test)"
   ]
  },
  {
   "cell_type": "code",
   "execution_count": null,
   "metadata": {},
   "outputs": [],
   "source": [
    "#calculating the accuracy score on test data and Training data \n",
    "predictions_train = svm.predict(X_train)\n",
    "print(\"Training Score:\",accuracy_score(predictions_train, y_train))\n",
    "predictions=svm.predict(X_test)\n",
    "print(\"Test score:\",accuracy_score(predictions, y_test))"
   ]
  },
  {
   "cell_type": "markdown",
   "metadata": {},
   "source": [
    "##### Plotting the ROC_AUC_CURVE"
   ]
  },
  {
   "cell_type": "code",
   "execution_count": null,
   "metadata": {},
   "outputs": [],
   "source": [
    "plot_roc_curve(svm, X_test,y_test, name='SVM using Grid Search CV')"
   ]
  },
  {
   "cell_type": "code",
   "execution_count": null,
   "metadata": {},
   "outputs": [],
   "source": [
    "from sklearn.metrics import confusion_matrix,f1_score\n",
    "print('f1_score:',f1_score(y_test, svm_p))\n",
    "\n",
    "confusion_matrix(y_test, svm_p)"
   ]
  },
  {
   "cell_type": "markdown",
   "metadata": {},
   "source": [
    "Inferences:\n",
    "\n",
    "1.By Using SVM, F1_Score is 72%  which is less  than xgboost model.\n",
    "\n",
    "2.Training accuracy and Test accuracy are close to each other. SO, there is no case for Over-fitting or Under-fitting."
   ]
  },
  {
   "cell_type": "markdown",
   "metadata": {},
   "source": [
    "**Explorative Data Analysis Outcomes:**"
   ]
  },
  {
   "cell_type": "markdown",
   "metadata": {},
   "source": [
    "1.Officer Year of Birth --> Range Between 1946 to 1987 (~41 years)\n",
    "\n",
    "2.Officer Years of Experience --> Having -ve Values but experiance must + ve \n",
    "\n",
    "3.Most of the Reprted_Year and Occurred_Year comes under same time span (2018 to 2022) \n",
    "  Highest in 2018 and lowerst in 2022\n",
    "\n",
    "4.All the -ve years of experiance comes under Gender=N \n",
    "\n",
    "5.Male having highest years of experiance then compare to female\n",
    "\n",
    "6.Officer Gender =N  having Highest Reporting Months then compare to Male and Female \n",
    "\n",
    "7.CIT Certified Indicator is Active after 2016 (Reported Year Range b/w 1900 -2020)\n",
    "\n",
    "8.April month highest CIT Certified Indicator values occured "
   ]
  },
  {
   "cell_type": "markdown",
   "metadata": {},
   "source": [
    "**Machine Learning Outcomes**"
   ]
  },
  {
   "cell_type": "markdown",
   "metadata": {},
   "source": [
    "**Evaluation Metric: F-Score**\n",
    "\n",
    "1) The metrics such as Precision, Sensitivity, Recall, Specificity, F-Score, ROC-AUC Curve is used to evaluate the Classification problem.Here, we could observe that the output data is slightly imbalanced, here we could use the F-1 Score. F-1 score is generally useful when working with the imbalanced dataset and it also combines precision with recall into a single metric. \n",
    "\n",
    "2) f1_score is 58% with Logistic Regression with L2 penalty\n",
    "\n",
    "3) f1_score is 58% with Logistic Regression with L2 penalty with 10 folds Cross Validation and liblinear solver.\n",
    "\n",
    "4) f1_score is 58% with Logistic Regression with L2 penalty and saga solver.\n",
    "\n",
    "5) By Using KNN, F1_Score is  82%  which is better then Logistic regression.\n",
    "\n",
    "6) By Using RandomForest, F1_Score is 88%  which is better  than all the previous models.\n",
    "\n",
    "7) By Using Xgboost, F1_Score is 87%  which is less slight than Random Forest Model.\n",
    "\n",
    "8) By Using SVM, F1_Score is 72%  which is less  than xgboost model.\n",
    "\n",
    "9) By comparing all the above implemented models, we can conclude that Randomforest model has improved the performance of the model.\n"
   ]
  },
  {
   "cell_type": "markdown",
   "metadata": {},
   "source": [
    "**Conclusion** : Classificaion Problem is overcomed by evaluating variou factors such as Precision, Sensitivity, Recall, Specificity, F-Score, ROC-AUC Curve.Among all the algorithms  between KNN,RandomForest,Xgboost,SVM ,\"Randomforest model has improved the performance of the model\""
   ]
  },
  {
   "cell_type": "markdown",
   "metadata": {},
   "source": [
    "**Further Improvements and outcomes:**"
   ]
  },
  {
   "cell_type": "markdown",
   "metadata": {},
   "source": [
    "Further, the results can be improved by having vast knowledge on the business domain, which could be useful in \n",
    "understanding and pre-processing the data. Thus, the outliers and any random noise can be removed. \n",
    "\n",
    "Neural networks along with Tensor-flow models can improve the performance of the model"
   ]
  },
  {
   "cell_type": "markdown",
   "metadata": {},
   "source": [
    "**References** : \n",
    "\n",
    "1.https://blog.exsilio.com/all/accuracy-precision-recall-f1-score-interpretation-of-performance-measures/\n",
    "\n",
    "2.https://towardsdatascience.com/machine-learning-basics-with-the-k-nearest-neighbors-algorithm-6a6e71d01761\n",
    "\n",
    "3.https://www.section.io/engineering-education/introduction-to-random-forest-in-machine-learning/\n",
    "\n",
    "4.https://machinelearningmastery.com/gentle-introduction-xgboost-applied-machine-learning/\n",
    "\n",
    "5.https://www.analyticsvidhya.com/blog/2017/09/understaing-support-vector-machine-example-code/"
   ]
  }
 ],
 "metadata": {
  "kernelspec": {
   "display_name": "Python 3",
   "language": "python",
   "name": "python3"
  },
  "language_info": {
   "codemirror_mode": {
    "name": "ipython",
    "version": 3
   },
   "file_extension": ".py",
   "mimetype": "text/x-python",
   "name": "python",
   "nbconvert_exporter": "python",
   "pygments_lexer": "ipython3",
   "version": "3.7.6"
  }
 },
 "nbformat": 4,
 "nbformat_minor": 4
}
